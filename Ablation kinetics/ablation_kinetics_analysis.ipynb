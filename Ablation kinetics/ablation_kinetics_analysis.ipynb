{
 "cells": [
  {
   "cell_type": "code",
   "execution_count": 1,
   "metadata": {},
   "outputs": [],
   "source": [
    "import pandas as pd\n",
    "import numpy as np\n",
    "from os import listdir\n",
    "\n",
    "import matplotlib.pyplot as plt\n",
    "import matplotlib as mpl\n",
    "import matplotlib.patches as mpatches\n",
    "from matplotlib.lines import Line2D\n",
    "from pylab import cm\n",
    "import scipy.optimize\n",
    "\n",
    "import sys         \n",
    "  \n"
   ]
  },
  {
   "cell_type": "code",
   "execution_count": 4,
   "metadata": {},
   "outputs": [],
   "source": [
    "sys.path.append('C:/Users/amilas/Desktop/Python-analysis/functions')    \n",
    "\n",
    "from my_functions import create_fig"
   ]
  },
  {
   "cell_type": "code",
   "execution_count": 3,
   "metadata": {},
   "outputs": [],
   "source": [
    "px_size = 0.1625\n"
   ]
  },
  {
   "cell_type": "code",
   "execution_count": 5,
   "metadata": {},
   "outputs": [],
   "source": [
    "directories = [\"Baz_Jupiter_polar//\", \"Baz_Jupiter_nonpolar//\", \"Par1_Jupiter//\", \"Par1_Baz//\", \"Par1_Jupiter_long//\", \"aPKC_Baz_long//\", \"Par1_Baz_long//\", \"Par1_oskar//\"]\n",
    "timeintervals = [30, 30, 30, 60, 600, 600, 600, 300]\n",
    "green_channel = [\"Baz\", \"Baz\", \"Par1\", \"Par1\", \"Par1\", \"aPKC\", \"Par1\", \"Par1\"]\n",
    "red_channel = [\"Jupiter\", \"Jupiter\", \"Jupiter\", \"Baz\", \"Jupiter\", \"Baz\", \"Baz\", \"oskar\"]\n",
    "\n",
    "info_df = pd.DataFrame(data={\"directory\": directories, \"timeinterval\": timeintervals, \"green_channel\": green_channel, \"red_channel\": red_channel})\n"
   ]
  },
  {
   "cell_type": "code",
   "execution_count": 150,
   "metadata": {},
   "outputs": [
    {
     "name": "stdout",
     "output_type": "stream",
     "text": [
      "20220704_Exp2_position4_green.csv 20220704_Exp2_position4_green_background.csv\n",
      "20220704_Exp2_position5_green.csv 20220704_Exp2_position5_green_background.csv\n",
      "20220704_Exp2_position6_green.csv 20220704_Exp2_position6_green_background.csv\n",
      "20220705_Exp3_position7_green.csv 20220705_Exp3_position7_green_background.csv\n",
      "20220706_Exp2_position3_green.csv 20220706_Exp2_position3_green_background.csv\n",
      "20220706_Exp3_position3_green.csv 20220706_Exp3_position3_green_background.csv\n",
      "20220706_Exp3_position5_green.csv 20220706_Exp3_position5_green_background.csv\n",
      "20220707_Exp2_position5_green.csv 20220707_Exp2_position5_green_background.csv\n",
      "20220709_Exp5_position3_green.csv 20220709_Exp5_position3_green_background.csv\n",
      "20220709_Exp5_position4_green.csv 20220709_Exp5_position4_green_background.csv\n",
      "20220709_Exp5_position5_green.csv 20220709_Exp5_position5_green_background.csv\n",
      "20220713_Exp2_position3_green.csv 20220713_Exp2_position3_green_background.csv\n",
      "20220717_Exp2_position1_green.csv 20220717_Exp2_position1_green_background.csv\n",
      "20220717_Exp2_position5_green.csv 20220717_Exp2_position5_green_background.csv\n",
      "20220717_Exp2_position7_green.csv 20220717_Exp2_position7_green_background.csv\n"
     ]
    }
   ],
   "source": [
    "#channel_color = \"red\"\n",
    "#info_subdf = info_df[(info_df.green_channel == \"Par1\") & (info_df.timeinterval == 60) & (info_df.red_channel == \"Baz\")]# & (info_df.timeinterval < 600)]\n",
    "\n",
    "channel_color = \"green\"\n",
    "info_subdf = info_df[(info_df.timeinterval == 600) & (info_df.red_channel == \"Jupiter\") & (info_df.green_channel == \"Par1\")]# & (info_df.timeinterval < 600)]\n",
    "\n",
    "#channel_color = \"green\"\n",
    "#info_subdf = info_df[(info_df.timeinterval == 300) & (info_df.red_channel == \"oskar\") & (info_df.green_channel == \"Par1\")]# & (info_df.timeinterval < 600)]\n",
    "#info_subdf = info_df[(info_df.timeinterval > 60) & (info_df.red_channel != \"Baz\") & (info_df.green_channel == \"Par1\")]# & (info_df.timeinterval < 600)]\n",
    "\n",
    "channel_color = \"red\"\n",
    "info_subdf = info_df[(info_df.timeinterval == 300) & (info_df.red_channel == \"oskar\") & (info_df.green_channel == \"Par1\")]# & (info_df.timeinterval < 600)]\n",
    "\n",
    "channel_color = \"green\"\n",
    "info_subdf = info_df[(info_df.timeinterval == 300) & (info_df.red_channel == \"oskar\") & (info_df.green_channel == \"Par1\")]# & (info_df.timeinterval < 600)]\n",
    "\n",
    "\n",
    "\n",
    "\n",
    "#channel_color = \"red\"\n",
    "#info_subdf = info_df[(info_df.green_channel == \"Par1\") & (info_df.timeinterval == 600) & (info_df.red_channel == \"Baz\")]# & (info_df.timeinterval < 600)]\n",
    "\n",
    "#channel_color = \"green\"\n",
    "#info_subdf = info_df[(info_df.green_channel == \"Par1\") & (info_df.red_channel == \"Jupiter\") & (info_df.timeinterval == 600)]\n",
    "\n",
    "#channel_color = \"red\"\n",
    "#info_subdf = info_df[(info_df.green_channel == \"Par1\") & (info_df.red_channel == \"Baz\") & (info_df.timeinterval == 600)]\n",
    "\n",
    "#channel_color = \"red\"\n",
    "#info_subdf = info_df[(info_df.red_channel == \"Jupiter\") & (info_df.timeinterval == 600)]# & (info_df.red_channel == \"Baz\") & (info_df.timeinterval < 600)]\n",
    "\n",
    "\n",
    "#channel_color = \"green\"\n",
    "#info_subdf = info_df[(info_df.green_channel == \"Baz\") & (info_df.timeinterval == 30)]# & (info_df.directory == \"Baz_Jupiter_nonpolar//\")]\n",
    "#info_subdf = info_df[(info_df.green_channel == \"Baz\") & (info_df.timeinterval == 30) & (info_df.directory == \"Baz_Jupiter_polar//\")]\n",
    "\n",
    "\n",
    "#channel_color = \"red\"\n",
    "#info_subdf = info_df[(info_df.red_channel == \"Baz\") & (info_df.timeinterval == 600)]\n",
    "\n",
    "#channel_color = \"green\"\n",
    "#info_subdf = info_df[(info_df.green_channel == \"aPKC\")]# & (info_df.red_channel == \"Jupiter\")]\n",
    "#channel_color = \"red\"\n",
    "#info_subdf = info_df[(info_df.green_channel == \"aPKC\")]# & (info_df.red_channel == \"Jupiter\")]\n",
    "\n",
    "last_frame_int=[]\n",
    "intensities_all = pd.DataFrame()\n",
    "for directory in info_subdf.directory.unique():\n",
    "    \n",
    "    files = listdir(directory)\n",
    "    dt = info_subdf[info_subdf.directory==directory].timeinterval.values[0]\n",
    "    if dt == 30: limit = 120\n",
    "    elif dt == 60: limit = 60\n",
    "    elif dt == 600: limit = 18\n",
    "    elif dt == 300: limit = 35\n",
    "\n",
    "    for index, file in enumerate(files[0::2]):\n",
    "\n",
    "    #for index, file in enumerate(files[0::3]):\n",
    "        if channel_color in file:\n",
    "            intensities = pd.read_csv(directory+file)[0:limit]\n",
    "            background = pd.read_csv(directory+files[index*2+1])[0:limit]\n",
    "            #background = pd.read_csv(directory+files[index*3+1])[0:limit]\n",
    "            #nonablated = pd.read_csv(directory+files[index*3+2])[0:limit]\n",
    "            print(file, files[index*2+1])\n",
    "\n",
    "\n",
    "  \n",
    "            \n",
    "            #subtract background\n",
    "    \n",
    "            intensities[\"Background_norm\"] = intensities.Mean - background.Mean\n",
    "            #intensities[\"Background_norm\"] = (intensities.Mean/intensities.Mean[0])/(background.Mean/background.Mean[0])\n",
    "            #intensities[\"Background_norm\"] = intensities.Mean/background.Mean\n",
    "            #intensities[\"Background_norm\"] = background.Mean\n",
    "            #intensities[\"Background_norm\"] = (intensities.Mean[0:16]/intensities.Mean[0]) / (y_mean/y_mean[0]).values[0:16]\n",
    "            #intensities[\"Background_norm\"] = intensities.Mean-intensities.Mean[0]  ##apkc\n",
    "\n",
    "       \n",
    "\n",
    "            intensities[\"Mean\"] = intensities.Background_norm\n",
    "\n",
    "            \n",
    "            #normalize\n",
    "            #intensities[\"Normalized\"] = (intensities.Mean - intensities.Mean[0])\n",
    "            intensities[\"Normalized\"] = intensities.Mean#/intensities.Mean[0]    \n",
    "            \n",
    "\n",
    "\n",
    "            intensities[file] = intensities[\"Normalized\"]#/intensities[\"Normalized\"].max()#/intensities.Mean[0]#intensities[\"Normalized\"].min()\n",
    "            intensities[file+\"_time\"] = np.arange(len(intensities))*dt\n",
    "\n",
    "            if dt <6:\n",
    "                index = pd.date_range('1/1/2000', periods=len(intensities[file]), freq=str(dt)+\"s\")\n",
    "                series = pd.Series(intensities[file].values, index=index)\n",
    "                \n",
    "                resample_time = 1*600\n",
    "                resampled_data = series.resample(str(resample_time/60)+ \" min\").mean()\n",
    "                #print(series.resample(str(resample_time)+ \"s\").mean())\n",
    "                #intensities[file+\"_time\"] = np.arange(len(intensities))*resample_time\n",
    "\n",
    "                final_intensities = pd.DataFrame(data={file: resampled_data.values, file+\"_time\": np.arange(len(resampled_data))*resample_time})\n",
    "            \n",
    "            else: \n",
    "                final_intensities = intensities.reset_index()[[file, file+\"_time\"]]\n",
    "\n",
    "            intensities_all = pd.concat([intensities_all, final_intensities], axis=1)\n",
    "\n",
    "\n",
    "\n",
    "\n"
   ]
  },
  {
   "cell_type": "code",
   "execution_count": 151,
   "metadata": {},
   "outputs": [
    {
     "data": {
      "image/png": "[encoded data removed]",
      "text/plain": [
       "<Figure size 144x144 with 1 Axes>"
      ]
     },
     "metadata": {
      "needs_background": "light"
     },
     "output_type": "display_data"
    }
   ],
   "source": [
    "COLOR= \"black\"\n",
    "plot_size = \"small\"\n",
    "fig, ax = create_fig(COLOR=COLOR, plot_size=plot_size)\n",
    "\n",
    "stages = []\n",
    "## par1 jupiter long\n",
    "#stages = [\"9\", \"10A\", \"9\", \"9\", \"9\", \"9\", \"9\", \"10A\", \"9\", \"10A\", \"10A\", \"9\", \"10A\", \"9\"]\n",
    "\n",
    "## par1 oskar\n",
    "stages = [\"10A\", \"10A\", \"10A\", \"9\", \"9\", \"10A\", \"10A\", \"9\", \"8\", \"9\", \"10A\", \"9\", \"9\", \"9\", \"8\"]\n",
    "\n",
    "#stages = [\"Polar cells and PFCs\"]*5+[\"Only PFCs\"]*6\n",
    "\n",
    "\n",
    "df = pd.DataFrame(index=np.arange(0,11000,30))\n",
    "\n",
    "for oocyte_index, oocyte in enumerate(intensities_all.columns[0::2]):\n",
    "    if len(stages)>0:\n",
    "        #oocyte_length = oocytes_lengths_um[oocyte_index]\n",
    "        oocyte_stage = stages[oocyte_index]\n",
    "        #if oocyte_length < 80: linecolor = \"green\"\n",
    "        #elif (oocyte_length >80 and oocyte_length <120): linecolor = \"orange\"\n",
    "        #else: linecolor=\"blue\"\n",
    "        \n",
    "        if oocyte_stage == \"9\" or oocyte_stage ==\"Polar cells and PFCs\": linecolor = \"orange\"\n",
    "        elif oocyte_stage == \"8\" : linecolor = \"green\"\n",
    "        else: linecolor = \"blue\"\n",
    "        \n",
    "        if oocyte_stage != \"99\":\n",
    "            ax.plot(intensities_all[oocyte+\"_time\"], intensities_all[oocyte], linewidth=plt.rcParams['axes.linewidth'], color=linecolor)\n",
    "            df[oocyte] = np.nan\n",
    "            for idx, time in enumerate(intensities_all[oocyte+\"_time\"].dropna()):\n",
    "                df.loc[int(time), oocyte] = intensities_all[oocyte][idx]\n",
    "\n",
    "            legend_lines = [Line2D([0], [0], color=\"green\", lw=2), Line2D([0], [0], color=\"orange\", lw=2),\n",
    "                Line2D([0], [0], color=\"blue\", lw=2)]  \n",
    "            ax.legend(legend_lines, [\"stage 8\", \"stage 9\", \"stage 10A\"], bbox_to_anchor=(1, 1), loc='upper left')\n",
    "            #ax.legend(legend_lines, [\"Polar cells\",\"Non polar PFCs\"], bbox_to_anchor=(1, 1), loc='upper left')\n",
    "            \n",
    "    else: \n",
    "            ax.plot(intensities_all[oocyte+\"_time\"], intensities_all[oocyte], linewidth=plt.rcParams['axes.linewidth'])\n",
    "\n",
    "            df[oocyte] = np.nan\n",
    "            for idx, time in enumerate(intensities_all[oocyte+\"_time\"].dropna()):\n",
    "                df.loc[int(time), oocyte] = intensities_all[oocyte][idx]\n",
    "\n",
    "\n",
    "\n",
    "\n",
    "        \n",
    "df.dropna(axis = 0, how = 'all', inplace=True)\n",
    "df.sort_index(inplace=True)\n",
    "df['Mean'] = df.mean(axis=1)\n",
    "\n",
    "x_mean = df.index.values\n",
    "y_mean = df.Mean\n",
    "#ax.plot(x_mean, y_mean, linewidth=plt.rcParams['axes.linewidth']*3, color=COLOR)\n",
    "#ax.plot(x_mean[0:16], y_mean[0:16], linewidth=plt.rcParams['axes.linewidth']*3, color=COLOR)\n",
    "\n",
    "ax.plot(x_mean, pd.DataFrame([df.iloc[:, i] for i,s in enumerate(stages) if s==\"9\"]).mean(), linewidth=plt.rcParams['axes.linewidth']*3, color=\"orange\")\n",
    "ax.plot(x_mean, pd.DataFrame([df.iloc[:, i] for i,s in enumerate(stages) if s==\"10A\"]).mean(), linewidth=plt.rcParams['axes.linewidth']*3, color=\"blue\")\n",
    "ax.plot(x_mean, pd.DataFrame([df.iloc[:, i] for i,s in enumerate(stages) if s==\"8\"]).mean(), linewidth=plt.rcParams['axes.linewidth']*3, color=\"green\")\n",
    "\n",
    "#ax.plot(x_mean, pd.DataFrame([df.iloc[:, i] for i,s in enumerate(stages) if s==\"Polar cells and PFCs\"]).mean(), linewidth=plt.rcParams['axes.linewidth']*3, color=\"orange\")\n",
    "#ax.plot(x_mean, pd.DataFrame([df.iloc[:, i] for i,s in enumerate(stages) if s==\"Only PFCs\"]).mean(), linewidth=plt.rcParams['axes.linewidth']*3, color=\"blue\")\n",
    "\n",
    "\n",
    "#ax.plot(df.index.values[:-2], df.Mean[:-2], linewidth=plt.rcParams['axes.linewidth']*3, color=COLOR)\n",
    "num=int(intensities_all.shape[1]/2)\n",
    "\n",
    "#ax.set_ylim([-200, 900])\n",
    "#ax.set_xlim([-200, 7200])\n",
    "#plt.title(\"oskar\")"
   ]
  },
  {
   "cell_type": "code",
   "execution_count": 125,
   "metadata": {},
   "outputs": [],
   "source": [
    "def monoExp(x, t, a, b):\n",
    "    return a*np.exp(-t *x)+b\n",
    "\n"
   ]
  },
  {
   "cell_type": "code",
   "execution_count": 162,
   "metadata": {},
   "outputs": [
    {
     "name": "stdout",
     "output_type": "stream",
     "text": [
      "R² = 0.696725111578722\n",
      "T_1/2 = 4840.353066423336\n",
      "-2.491071202086123e-08 -765168.851631408 765353.3857367759\n"
     ]
    },
    {
     "data": {
      "image/png": "[encoded data removed]",
      "text/plain": [
       "<Figure size 432x288 with 1 Axes>"
      ]
     },
     "metadata": {
      "needs_background": "light"
     },
     "output_type": "display_data"
    }
   ],
   "source": [
    "mean_intensity = pd.DataFrame([df.iloc[:, i] for i,s in enumerate(stages) if s==\"9\"]).mean()\n",
    "dt = 300\n",
    "ys = mean_intensity#/mean_intensity[0]\n",
    "#ys = [np.mean(mean_intensity[i:i+2]) for i in range(0, len(mean_intensity), 3)]\n",
    "xs = np.array([dt*i for i in range(len(ys))])\n",
    "\n",
    "p0 = [0, max(ys)-min(ys), min(ys)]\n",
    "\n",
    "# perform the fit\n",
    "params, cv = scipy.optimize.curve_fit(monoExp, xs, ys, p0, maxfev=10000000)\n",
    "t, a, b = params\n",
    "t_half = -np.log((a-b)/(2*a))/t\n",
    "\n",
    "# determine quality of the fit\n",
    "squaredDiffs = np.square(ys - monoExp(xs, t, a, b))\n",
    "squaredDiffsFromMean = np.square(ys - np.mean(ys))\n",
    "rSquared = 1 - np.sum(squaredDiffs) / np.sum(squaredDiffsFromMean)\n",
    "print(f\"R² = {rSquared}\")\n",
    "\n",
    "\n",
    "\n",
    "# plot the results\n",
    "plt.plot(xs, ys, '.', label=\"data\")\n",
    "plt.plot(xs, monoExp(xs, t, a, b), '--', label=\"fitted\")\n",
    "\n",
    "\n",
    "# inspect the parameters\n",
    "print(f\"T_1/2 = {t_half}\")\n",
    "print(t,a,b)"
   ]
  },
  {
   "cell_type": "code",
   "execution_count": 78,
   "metadata": {},
   "outputs": [],
   "source": [
    "ys.to_csv(\"test.csv\")"
   ]
  },
  {
   "cell_type": "code",
   "execution_count": 25,
   "metadata": {},
   "outputs": [],
   "source": [
    "#par_1_stage9 = pd.DataFrame([df.iloc[:, i] for i,s in enumerate(stages) if s==\"9\"]).mean()\n",
    "#apkc_all =  df.mean(axis=1)\n",
    "#baz_red_all =  df.mean(axis=1)"
   ]
  },
  {
   "cell_type": "code",
   "execution_count": 36,
   "metadata": {},
   "outputs": [
    {
     "data": {
      "text/plain": [
       "(-0.2, 1.2)"
      ]
     },
     "execution_count": 36,
     "metadata": {},
     "output_type": "execute_result"
    },
    {
     "data": {
      "image/png": "[encoded data removed]",
      "text/plain": [
       "<Figure size 144x144 with 1 Axes>"
      ]
     },
     "metadata": {
      "needs_background": "light"
     },
     "output_type": "display_data"
    }
   ],
   "source": [
    "fig, ax = create_fig(ylabel=\"Normalized intensity\", plot_size=\"small\")\n",
    "ax.plot(par_1_stage9/max(par_1_stage9), \"--\", linewidth=plt.rcParams['axes.linewidth']*3, color=COLOR)\n",
    "ax.plot(apkc_all/max(apkc_all), linewidth=plt.rcParams['axes.linewidth']*3, color=COLOR)\n",
    "ax.set_ylim([-0.2, 1.2])"
   ]
  },
  {
   "cell_type": "code",
   "execution_count": 26,
   "metadata": {},
   "outputs": [],
   "source": [
    "## par1 jupiter long\n",
    "stages = [\"9\", \"10A\", \"9\", \"9\", \"9\", \"9\", \"9\", \"10A\", \"9\", \"10A\", \"10A\", \"9\", \"10A\", \"9\"]\n",
    "oocytes_lengths = [398.503,\n",
    "793.006,\n",
    "633.432,\n",
    "465.249,\n",
    "491.798,\n",
    "643.72,\n",
    "428.843,\n",
    "843.801,\n",
    "457.349,\n",
    "731.465,\n",
    "829.352,\n",
    "583.454,\n",
    "864.63,\n",
    "602.1]\n",
    "\n",
    "oocytes_lengths_um = [l*px_size for l in oocytes_lengths]\n"
   ]
  },
  {
   "cell_type": "code",
   "execution_count": 111,
   "metadata": {},
   "outputs": [],
   "source": [
    "#baz jupiter short polar\n",
    "stages = [\"9\", \"10A\", \"9\", \"10A\", \"9\"]\n"
   ]
  },
  {
   "cell_type": "code",
   "execution_count": 127,
   "metadata": {},
   "outputs": [],
   "source": [
    "#baz jupiter short nonpolar\n",
    "stages = [\"10A\", \"10A\", \"9\", \"9\", \"9\", \"9\"]"
   ]
  },
  {
   "cell_type": "code",
   "execution_count": 153,
   "metadata": {},
   "outputs": [],
   "source": [
    "#baz jupiter short polar and nonpolar\n",
    "stages = [\"9\", \"10A\", \"9\", \"10A\", \"9\", \"10A\", \"10A\", \"9\", \"9\", \"9\", \"9\"]\n"
   ]
  },
  {
   "cell_type": "code",
   "execution_count": 166,
   "metadata": {},
   "outputs": [],
   "source": [
    "#par1 baz long\n",
    "oocytes_lengths = [554.59,\n",
    "741.758,\n",
    "522.457,\n",
    "891.704,\n",
    "830.304,\n",
    "773.264,\n",
    "900.5,\n",
    "889.758,\n",
    "830.03,\n",
    "989.604]\n",
    "\n",
    "stages = [\"9\", \"10A\", \"9\", \"10A\", \"10A\", \"10A\", \"10A\", \"10A\", \"10A\", \"10A\"]\n"
   ]
  },
  {
   "cell_type": "code",
   "execution_count": 147,
   "metadata": {},
   "outputs": [],
   "source": [
    "oocytes_lengths = [398.503,\n",
    "793.006,\n",
    "633.432,\n",
    "465.249,\n",
    "491.798,\n",
    "643.72,\n",
    "428.843,\n",
    "843.801,\n",
    "457.349,\n",
    "725.276,\n",
    "829.352,\n",
    "583.454,\n",
    "864.63,\n",
    "602.1,\n",
    "554.59,\n",
    "741.758,\n",
    "522.457,\n",
    "891.704,\n",
    "830.304,\n",
    "773.264,\n",
    "900.5,\n",
    "889.758,\n",
    "830.03,\n",
    "989.604]\n",
    "\n",
    "stages = [\"9\", \"10A\", \"9\", \"9\", \"9\", \"9\", \"9\", \"10A\", \"9\", \"10A\", \"10A\", \"9\", \"10A\", \"9\", \"9\", \"10A\", \"9\", \"10A\", \"10A\", \"10A\", \"10A\", \"10A\", \"10A\", \"10A\"]"
   ]
  },
  {
   "cell_type": "code",
   "execution_count": 100,
   "metadata": {},
   "outputs": [
    {
     "data": {
      "text/plain": [
       "24"
      ]
     },
     "execution_count": 100,
     "metadata": {},
     "output_type": "execute_result"
    }
   ],
   "source": [
    "len(oocytes_lengths)"
   ]
  },
  {
   "cell_type": "code",
   "execution_count": 31,
   "metadata": {},
   "outputs": [],
   "source": [
    "title=\"oskar_intensity_Par1_oskar_line\"\n",
    "fig.savefig(f'{title}_{COLOR}.pdf', dpi=300, transparent=True, bbox_inches='tight')\n",
    "fig.savefig(f'{title}_{COLOR}.png', dpi=300, transparent=True, bbox_inches='tight')"
   ]
  },
  {
   "cell_type": "code",
   "execution_count": 27,
   "metadata": {},
   "outputs": [],
   "source": [
    "title=\"Par1_intensity_Par1_oskar_line\"\n",
    "fig.savefig(f'{title}_{COLOR}.pdf', dpi=300, transparent=True, bbox_inches='tight')\n",
    "fig.savefig(f'{title}_{COLOR}.png', dpi=300, transparent=True, bbox_inches='tight')"
   ]
  },
  {
   "cell_type": "code",
   "execution_count": 125,
   "metadata": {},
   "outputs": [],
   "source": [
    "title=\"Baz-mCh_norm2\"\n",
    "fig.savefig(f'{title}_{COLOR}.pdf', dpi=300, transparent=True, bbox_inches='tight')\n",
    "fig.savefig(f'{title}_{COLOR}.png', dpi=300, transparent=True, bbox_inches='tight')"
   ]
  },
  {
   "cell_type": "code",
   "execution_count": 56,
   "metadata": {},
   "outputs": [],
   "source": [
    "title=\"Baz-mCh_background\"\n",
    "fig.savefig(f'{title}_{COLOR}.pdf', dpi=300, transparent=True, bbox_inches='tight')\n",
    "fig.savefig(f'{title}_{COLOR}.png', dpi=300, transparent=True, bbox_inches='tight')"
   ]
  },
  {
   "cell_type": "code",
   "execution_count": 37,
   "metadata": {},
   "outputs": [],
   "source": [
    "title=\"aPKC_Par1_ablation\"\n",
    "fig.savefig(f'{title}_{COLOR}.pdf', dpi=300, transparent=True, bbox_inches='tight')\n",
    "fig.savefig(f'{title}_{COLOR}.png', dpi=300, transparent=True, bbox_inches='tight')"
   ]
  },
  {
   "cell_type": "code",
   "execution_count": 21,
   "metadata": {},
   "outputs": [],
   "source": [
    "title=\"aPKC_ablation_long_with_Baz\"\n",
    "ax.text(0, 3750, 'n='+str(num), size=plt.rcParams['font.size'])\n",
    "fig.savefig(f'{title}_{COLOR}.pdf', dpi=300, transparent=True, bbox_inches='tight')\n",
    "fig.savefig(f'{title}_{COLOR}.png', dpi=300, transparent=True, bbox_inches='tight')"
   ]
  },
  {
   "cell_type": "code",
   "execution_count": 11,
   "metadata": {},
   "outputs": [],
   "source": [
    "title=\"Baz_ablation_long_with_aPKC\"\n",
    "ax.text(0, 350, 'n='+str(num), size=plt.rcParams['font.size'])\n",
    "fig.savefig(f'{title}_{COLOR}.pdf', dpi=300, transparent=True, bbox_inches='tight')\n",
    "fig.savefig(f'{title}_{COLOR}.png', dpi=300, transparent=True, bbox_inches='tight')"
   ]
  },
  {
   "cell_type": "code",
   "execution_count": 13,
   "metadata": {},
   "outputs": [],
   "source": [
    "title=\"Baz_ablation_1h_with_Par1\"\n",
    "ax.text(0, 180, 'n='+str(num), size=plt.rcParams['font.size'])\n",
    "fig.savefig(f'{title}_{COLOR}.pdf', dpi=300, transparent=True, bbox_inches='tight')\n",
    "fig.savefig(f'{title}_{COLOR}.png', dpi=300, transparent=True, bbox_inches='tight')"
   ]
  },
  {
   "cell_type": "code",
   "execution_count": 10,
   "metadata": {},
   "outputs": [],
   "source": [
    "title=\"Par1_ablation_1h_with_Baz\"\n",
    "ax.text(3000, 600, 'n='+str(num), size=plt.rcParams['font.size'])\n",
    "fig.savefig(f'{title}_{COLOR}.pdf', dpi=300, transparent=True, bbox_inches='tight')\n",
    "fig.savefig(f'{title}_{COLOR}.png', dpi=300, transparent=True, bbox_inches='tight')"
   ]
  },
  {
   "cell_type": "code",
   "execution_count": 29,
   "metadata": {},
   "outputs": [],
   "source": [
    "title=\"Baz_ablation_1h_small_color_coded\"\n",
    "ax.text(0, 270, 'n='+str(num), size=plt.rcParams['font.size'])\n",
    "fig.savefig(f'{title}_{COLOR}.pdf', dpi=300, transparent=True, bbox_inches='tight')\n",
    "fig.savefig(f'{title}_{COLOR}.png', dpi=300, transparent=True, bbox_inches='tight')"
   ]
  },
  {
   "cell_type": "code",
   "execution_count": null,
   "metadata": {},
   "outputs": [],
   "source": [
    "title=\"Baz_ablation_1h_small_color_coded_two_means\"\n",
    "ax.text(0, 270, 'n='+str(num), size=plt.rcParams['font.size'])\n",
    "fig.savefig(f'{title}_{COLOR}.pdf', dpi=300, transparent=True, bbox_inches='tight')\n",
    "fig.savefig(f'{title}_{COLOR}.png', dpi=300, transparent=True, bbox_inches='tight')"
   ]
  },
  {
   "cell_type": "code",
   "execution_count": 34,
   "metadata": {},
   "outputs": [],
   "source": [
    "title=\"Par1_ablation_long_small\"\n",
    "ax.text(7500, 800, 'n='+str(num), size=plt.rcParams['font.size'])\n",
    "fig.savefig(f'{title}_{COLOR}.pdf', dpi=300, transparent=True, bbox_inches='tight')\n",
    "fig.savefig(f'{title}_{COLOR}.png', dpi=300, transparent=True, bbox_inches='tight')"
   ]
  },
  {
   "cell_type": "code",
   "execution_count": 6,
   "metadata": {},
   "outputs": [],
   "source": [
    "#intensities_all_baz = intensities_all.copy()\n",
    "intensities_all_par1 = intensities_all.copy()"
   ]
  },
  {
   "cell_type": "code",
   "execution_count": 7,
   "metadata": {},
   "outputs": [],
   "source": [
    "\n",
    "def monoExp(x, m, t, k):\n",
    "    #return m * (1-np.exp(-t * x))+k\n",
    "    return m * (np.exp(-t * x))+k\n",
    "\n",
    "\n",
    "def monoExp2(x, m, t, k):\n",
    "    return m * (1-np.exp(-t * x))+k\n"
   ]
  },
  {
   "cell_type": "code",
   "execution_count": 8,
   "metadata": {},
   "outputs": [],
   "source": [
    "intensities_all_par1 = intensities_all[intensities_all.columns[0::2]]\n",
    "#intensities_all_par1 = intensities_all[intensities_all.columns[[0,1,2,3,4,5,6,8,11,12,13]]]"
   ]
  },
  {
   "cell_type": "code",
   "execution_count": 216,
   "metadata": {},
   "outputs": [
    {
     "ename": "NameError",
     "evalue": "name 'intensities_all_baz' is not defined",
     "output_type": "error",
     "traceback": [
      "\u001b[1;31m---------------------------------------------------------------------------\u001b[0m",
      "\u001b[1;31mNameError\u001b[0m                                 Traceback (most recent call last)",
      "\u001b[1;32m<ipython-input-216-f75923be2846>\u001b[0m in \u001b[0;36m<module>\u001b[1;34m\u001b[0m\n\u001b[1;32m----> 1\u001b[1;33m \u001b[0mintensities_all_baz\u001b[0m \u001b[1;33m=\u001b[0m \u001b[0mintensities_all_baz\u001b[0m\u001b[1;33m[\u001b[0m\u001b[0mintensities_all_baz\u001b[0m\u001b[1;33m.\u001b[0m\u001b[0mcolumns\u001b[0m\u001b[1;33m[\u001b[0m\u001b[1;36m0\u001b[0m\u001b[1;33m:\u001b[0m\u001b[1;33m:\u001b[0m\u001b[1;36m2\u001b[0m\u001b[1;33m]\u001b[0m\u001b[1;33m]\u001b[0m\u001b[1;33m\u001b[0m\u001b[1;33m\u001b[0m\u001b[0m\n\u001b[0m",
      "\u001b[1;31mNameError\u001b[0m: name 'intensities_all_baz' is not defined"
     ]
    }
   ],
   "source": [
    "intensities_all_baz = intensities_all_baz[intensities_all_baz.columns[0::2]]"
   ]
  },
  {
   "cell_type": "code",
   "execution_count": 339,
   "metadata": {},
   "outputs": [
    {
     "data": {
      "text/html": [
       "<div>\n",
       "<style scoped>\n",
       "    .dataframe tbody tr th:only-of-type {\n",
       "        vertical-align: middle;\n",
       "    }\n",
       "\n",
       "    .dataframe tbody tr th {\n",
       "        vertical-align: top;\n",
       "    }\n",
       "\n",
       "    .dataframe thead th {\n",
       "        text-align: right;\n",
       "    }\n",
       "</style>\n",
       "<table border=\"1\" class=\"dataframe\">\n",
       "  <thead>\n",
       "    <tr style=\"text-align: right;\">\n",
       "      <th></th>\n",
       "      <th>20210907_Exp1_position3_red.csv</th>\n",
       "      <th>20210907_Exp1_position4_red.csv</th>\n",
       "      <th>20210913_Exp4_position6_red.csv</th>\n",
       "      <th>20210921_Exp1_position4_red.csv</th>\n",
       "      <th>20210921_Exp1_position5_red.csv</th>\n",
       "      <th>20210921_Exp1_position7_red.csv</th>\n",
       "      <th>20210921_Exp1_position8_red.csv</th>\n",
       "      <th>20210618_Exp1_position3_red.csv</th>\n",
       "      <th>20210618_Exp1_position4_red.csv</th>\n",
       "      <th>20210619_Exp1_position5_red.csv</th>\n",
       "      <th>20210619_Exp1_position6_red.csv</th>\n",
       "      <th>20211217_Exp1_positio6_red.csv</th>\n",
       "      <th>20211217_Exp1_positio7_red.csv</th>\n",
       "      <th>20211217_Exp1_position3_red.csv</th>\n",
       "      <th>20211217_Exp1_position5_red.csv</th>\n",
       "      <th>20211218_Exp1_position4_red.csv</th>\n",
       "      <th>20211218_Exp1_position5_red.csv</th>\n",
       "    </tr>\n",
       "  </thead>\n",
       "  <tbody>\n",
       "    <tr>\n",
       "      <th>0</th>\n",
       "      <td>28.114</td>\n",
       "      <td>23.225</td>\n",
       "      <td>65.307</td>\n",
       "      <td>8.182</td>\n",
       "      <td>-13.096</td>\n",
       "      <td>36.026</td>\n",
       "      <td>21.769</td>\n",
       "      <td>144.727</td>\n",
       "      <td>85.811</td>\n",
       "      <td>135.385</td>\n",
       "      <td>39.123</td>\n",
       "      <td>-14.359</td>\n",
       "      <td>11.566</td>\n",
       "      <td>15.096</td>\n",
       "      <td>10.123</td>\n",
       "      <td>77.026</td>\n",
       "      <td>47.165</td>\n",
       "    </tr>\n",
       "    <tr>\n",
       "      <th>1</th>\n",
       "      <td>48.107</td>\n",
       "      <td>24.993</td>\n",
       "      <td>59.384</td>\n",
       "      <td>26.900</td>\n",
       "      <td>17.388</td>\n",
       "      <td>48.528</td>\n",
       "      <td>45.543</td>\n",
       "      <td>262.411</td>\n",
       "      <td>118.316</td>\n",
       "      <td>140.060</td>\n",
       "      <td>27.891</td>\n",
       "      <td>12.089</td>\n",
       "      <td>15.486</td>\n",
       "      <td>15.468</td>\n",
       "      <td>13.577</td>\n",
       "      <td>73.400</td>\n",
       "      <td>45.235</td>\n",
       "    </tr>\n",
       "    <tr>\n",
       "      <th>2</th>\n",
       "      <td>46.322</td>\n",
       "      <td>47.769</td>\n",
       "      <td>65.974</td>\n",
       "      <td>42.196</td>\n",
       "      <td>22.872</td>\n",
       "      <td>54.723</td>\n",
       "      <td>68.359</td>\n",
       "      <td>256.420</td>\n",
       "      <td>127.369</td>\n",
       "      <td>168.922</td>\n",
       "      <td>33.277</td>\n",
       "      <td>6.250</td>\n",
       "      <td>25.658</td>\n",
       "      <td>23.220</td>\n",
       "      <td>36.506</td>\n",
       "      <td>89.568</td>\n",
       "      <td>41.161</td>\n",
       "    </tr>\n",
       "    <tr>\n",
       "      <th>3</th>\n",
       "      <td>55.141</td>\n",
       "      <td>68.142</td>\n",
       "      <td>109.668</td>\n",
       "      <td>72.511</td>\n",
       "      <td>24.033</td>\n",
       "      <td>62.799</td>\n",
       "      <td>97.792</td>\n",
       "      <td>241.316</td>\n",
       "      <td>164.186</td>\n",
       "      <td>223.129</td>\n",
       "      <td>41.663</td>\n",
       "      <td>-9.496</td>\n",
       "      <td>42.706</td>\n",
       "      <td>39.241</td>\n",
       "      <td>48.411</td>\n",
       "      <td>86.652</td>\n",
       "      <td>59.697</td>\n",
       "    </tr>\n",
       "    <tr>\n",
       "      <th>4</th>\n",
       "      <td>70.728</td>\n",
       "      <td>103.047</td>\n",
       "      <td>129.009</td>\n",
       "      <td>82.585</td>\n",
       "      <td>26.832</td>\n",
       "      <td>75.963</td>\n",
       "      <td>140.689</td>\n",
       "      <td>214.617</td>\n",
       "      <td>205.497</td>\n",
       "      <td>271.308</td>\n",
       "      <td>38.448</td>\n",
       "      <td>16.413</td>\n",
       "      <td>40.809</td>\n",
       "      <td>60.607</td>\n",
       "      <td>45.622</td>\n",
       "      <td>96.106</td>\n",
       "      <td>61.510</td>\n",
       "    </tr>\n",
       "    <tr>\n",
       "      <th>5</th>\n",
       "      <td>129.252</td>\n",
       "      <td>129.030</td>\n",
       "      <td>155.496</td>\n",
       "      <td>101.794</td>\n",
       "      <td>25.816</td>\n",
       "      <td>145.566</td>\n",
       "      <td>134.439</td>\n",
       "      <td>248.637</td>\n",
       "      <td>253.327</td>\n",
       "      <td>314.061</td>\n",
       "      <td>43.462</td>\n",
       "      <td>11.750</td>\n",
       "      <td>55.410</td>\n",
       "      <td>36.222</td>\n",
       "      <td>49.000</td>\n",
       "      <td>138.948</td>\n",
       "      <td>77.072</td>\n",
       "    </tr>\n",
       "    <tr>\n",
       "      <th>6</th>\n",
       "      <td>155.546</td>\n",
       "      <td>118.638</td>\n",
       "      <td>178.124</td>\n",
       "      <td>128.680</td>\n",
       "      <td>6.451</td>\n",
       "      <td>128.789</td>\n",
       "      <td>136.285</td>\n",
       "      <td>287.522</td>\n",
       "      <td>270.918</td>\n",
       "      <td>386.072</td>\n",
       "      <td>55.669</td>\n",
       "      <td>20.527</td>\n",
       "      <td>43.532</td>\n",
       "      <td>41.783</td>\n",
       "      <td>28.873</td>\n",
       "      <td>146.398</td>\n",
       "      <td>61.062</td>\n",
       "    </tr>\n",
       "    <tr>\n",
       "      <th>7</th>\n",
       "      <td>197.613</td>\n",
       "      <td>113.484</td>\n",
       "      <td>201.343</td>\n",
       "      <td>146.439</td>\n",
       "      <td>30.486</td>\n",
       "      <td>105.763</td>\n",
       "      <td>135.067</td>\n",
       "      <td>427.750</td>\n",
       "      <td>250.854</td>\n",
       "      <td>381.192</td>\n",
       "      <td>54.941</td>\n",
       "      <td>27.438</td>\n",
       "      <td>72.624</td>\n",
       "      <td>34.747</td>\n",
       "      <td>21.094</td>\n",
       "      <td>137.680</td>\n",
       "      <td>68.535</td>\n",
       "    </tr>\n",
       "    <tr>\n",
       "      <th>8</th>\n",
       "      <td>203.727</td>\n",
       "      <td>130.933</td>\n",
       "      <td>223.074</td>\n",
       "      <td>155.955</td>\n",
       "      <td>37.609</td>\n",
       "      <td>94.997</td>\n",
       "      <td>109.774</td>\n",
       "      <td>539.625</td>\n",
       "      <td>273.692</td>\n",
       "      <td>351.994</td>\n",
       "      <td>70.994</td>\n",
       "      <td>19.150</td>\n",
       "      <td>59.171</td>\n",
       "      <td>33.559</td>\n",
       "      <td>22.516</td>\n",
       "      <td>113.307</td>\n",
       "      <td>70.217</td>\n",
       "    </tr>\n",
       "    <tr>\n",
       "      <th>9</th>\n",
       "      <td>199.425</td>\n",
       "      <td>140.330</td>\n",
       "      <td>230.699</td>\n",
       "      <td>160.374</td>\n",
       "      <td>72.570</td>\n",
       "      <td>118.585</td>\n",
       "      <td>103.572</td>\n",
       "      <td>678.013</td>\n",
       "      <td>250.119</td>\n",
       "      <td>348.757</td>\n",
       "      <td>89.637</td>\n",
       "      <td>29.574</td>\n",
       "      <td>41.930</td>\n",
       "      <td>21.782</td>\n",
       "      <td>39.669</td>\n",
       "      <td>117.612</td>\n",
       "      <td>74.066</td>\n",
       "    </tr>\n",
       "    <tr>\n",
       "      <th>10</th>\n",
       "      <td>182.443</td>\n",
       "      <td>131.058</td>\n",
       "      <td>213.663</td>\n",
       "      <td>210.489</td>\n",
       "      <td>91.560</td>\n",
       "      <td>114.347</td>\n",
       "      <td>113.664</td>\n",
       "      <td>576.784</td>\n",
       "      <td>260.455</td>\n",
       "      <td>348.184</td>\n",
       "      <td>134.635</td>\n",
       "      <td>34.461</td>\n",
       "      <td>37.240</td>\n",
       "      <td>31.717</td>\n",
       "      <td>30.313</td>\n",
       "      <td>103.341</td>\n",
       "      <td>92.322</td>\n",
       "    </tr>\n",
       "    <tr>\n",
       "      <th>11</th>\n",
       "      <td>181.415</td>\n",
       "      <td>123.569</td>\n",
       "      <td>194.576</td>\n",
       "      <td>224.851</td>\n",
       "      <td>78.687</td>\n",
       "      <td>136.096</td>\n",
       "      <td>114.494</td>\n",
       "      <td>533.240</td>\n",
       "      <td>230.496</td>\n",
       "      <td>304.828</td>\n",
       "      <td>148.694</td>\n",
       "      <td>22.485</td>\n",
       "      <td>49.673</td>\n",
       "      <td>47.711</td>\n",
       "      <td>49.212</td>\n",
       "      <td>127.514</td>\n",
       "      <td>96.212</td>\n",
       "    </tr>\n",
       "    <tr>\n",
       "      <th>12</th>\n",
       "      <td>244.905</td>\n",
       "      <td>157.211</td>\n",
       "      <td>199.395</td>\n",
       "      <td>248.594</td>\n",
       "      <td>108.165</td>\n",
       "      <td>116.636</td>\n",
       "      <td>104.873</td>\n",
       "      <td>637.941</td>\n",
       "      <td>240.861</td>\n",
       "      <td>302.689</td>\n",
       "      <td>173.581</td>\n",
       "      <td>29.367</td>\n",
       "      <td>57.145</td>\n",
       "      <td>29.813</td>\n",
       "      <td>43.787</td>\n",
       "      <td>140.809</td>\n",
       "      <td>103.875</td>\n",
       "    </tr>\n",
       "    <tr>\n",
       "      <th>13</th>\n",
       "      <td>272.252</td>\n",
       "      <td>158.708</td>\n",
       "      <td>234.642</td>\n",
       "      <td>270.727</td>\n",
       "      <td>110.882</td>\n",
       "      <td>121.377</td>\n",
       "      <td>123.814</td>\n",
       "      <td>598.223</td>\n",
       "      <td>231.429</td>\n",
       "      <td>295.155</td>\n",
       "      <td>204.224</td>\n",
       "      <td>34.580</td>\n",
       "      <td>40.303</td>\n",
       "      <td>40.995</td>\n",
       "      <td>37.501</td>\n",
       "      <td>150.130</td>\n",
       "      <td>111.537</td>\n",
       "    </tr>\n",
       "    <tr>\n",
       "      <th>14</th>\n",
       "      <td>306.789</td>\n",
       "      <td>154.223</td>\n",
       "      <td>184.086</td>\n",
       "      <td>271.079</td>\n",
       "      <td>108.765</td>\n",
       "      <td>110.127</td>\n",
       "      <td>100.267</td>\n",
       "      <td>507.311</td>\n",
       "      <td>221.746</td>\n",
       "      <td>281.841</td>\n",
       "      <td>249.604</td>\n",
       "      <td>54.459</td>\n",
       "      <td>45.801</td>\n",
       "      <td>44.081</td>\n",
       "      <td>47.398</td>\n",
       "      <td>172.609</td>\n",
       "      <td>111.488</td>\n",
       "    </tr>\n",
       "    <tr>\n",
       "      <th>15</th>\n",
       "      <td>370.512</td>\n",
       "      <td>181.300</td>\n",
       "      <td>181.620</td>\n",
       "      <td>295.999</td>\n",
       "      <td>63.790</td>\n",
       "      <td>121.344</td>\n",
       "      <td>108.420</td>\n",
       "      <td>489.018</td>\n",
       "      <td>234.143</td>\n",
       "      <td>327.667</td>\n",
       "      <td>202.806</td>\n",
       "      <td>54.308</td>\n",
       "      <td>58.345</td>\n",
       "      <td>41.866</td>\n",
       "      <td>62.740</td>\n",
       "      <td>152.318</td>\n",
       "      <td>68.653</td>\n",
       "    </tr>\n",
       "    <tr>\n",
       "      <th>16</th>\n",
       "      <td>372.750</td>\n",
       "      <td>187.741</td>\n",
       "      <td>179.118</td>\n",
       "      <td>315.083</td>\n",
       "      <td>71.691</td>\n",
       "      <td>NaN</td>\n",
       "      <td>NaN</td>\n",
       "      <td>473.348</td>\n",
       "      <td>205.790</td>\n",
       "      <td>326.187</td>\n",
       "      <td>237.817</td>\n",
       "      <td>49.111</td>\n",
       "      <td>70.207</td>\n",
       "      <td>36.195</td>\n",
       "      <td>79.177</td>\n",
       "      <td>150.574</td>\n",
       "      <td>NaN</td>\n",
       "    </tr>\n",
       "    <tr>\n",
       "      <th>17</th>\n",
       "      <td>389.557</td>\n",
       "      <td>192.137</td>\n",
       "      <td>159.068</td>\n",
       "      <td>292.025</td>\n",
       "      <td>NaN</td>\n",
       "      <td>NaN</td>\n",
       "      <td>NaN</td>\n",
       "      <td>477.461</td>\n",
       "      <td>245.418</td>\n",
       "      <td>329.347</td>\n",
       "      <td>251.052</td>\n",
       "      <td>46.895</td>\n",
       "      <td>69.925</td>\n",
       "      <td>40.070</td>\n",
       "      <td>87.410</td>\n",
       "      <td>122.465</td>\n",
       "      <td>NaN</td>\n",
       "    </tr>\n",
       "  </tbody>\n",
       "</table>\n",
       "</div>"
      ],
      "text/plain": [
       "    20210907_Exp1_position3_red.csv  20210907_Exp1_position4_red.csv  \\\n",
       "0                            28.114                           23.225   \n",
       "1                            48.107                           24.993   \n",
       "2                            46.322                           47.769   \n",
       "3                            55.141                           68.142   \n",
       "4                            70.728                          103.047   \n",
       "5                           129.252                          129.030   \n",
       "6                           155.546                          118.638   \n",
       "7                           197.613                          113.484   \n",
       "8                           203.727                          130.933   \n",
       "9                           199.425                          140.330   \n",
       "10                          182.443                          131.058   \n",
       "11                          181.415                          123.569   \n",
       "12                          244.905                          157.211   \n",
       "13                          272.252                          158.708   \n",
       "14                          306.789                          154.223   \n",
       "15                          370.512                          181.300   \n",
       "16                          372.750                          187.741   \n",
       "17                          389.557                          192.137   \n",
       "\n",
       "    20210913_Exp4_position6_red.csv  20210921_Exp1_position4_red.csv  \\\n",
       "0                            65.307                            8.182   \n",
       "1                            59.384                           26.900   \n",
       "2                            65.974                           42.196   \n",
       "3                           109.668                           72.511   \n",
       "4                           129.009                           82.585   \n",
       "5                           155.496                          101.794   \n",
       "6                           178.124                          128.680   \n",
       "7                           201.343                          146.439   \n",
       "8                           223.074                          155.955   \n",
       "9                           230.699                          160.374   \n",
       "10                          213.663                          210.489   \n",
       "11                          194.576                          224.851   \n",
       "12                          199.395                          248.594   \n",
       "13                          234.642                          270.727   \n",
       "14                          184.086                          271.079   \n",
       "15                          181.620                          295.999   \n",
       "16                          179.118                          315.083   \n",
       "17                          159.068                          292.025   \n",
       "\n",
       "    20210921_Exp1_position5_red.csv  20210921_Exp1_position7_red.csv  \\\n",
       "0                           -13.096                           36.026   \n",
       "1                            17.388                           48.528   \n",
       "2                            22.872                           54.723   \n",
       "3                            24.033                           62.799   \n",
       "4                            26.832                           75.963   \n",
       "5                            25.816                          145.566   \n",
       "6                             6.451                          128.789   \n",
       "7                            30.486                          105.763   \n",
       "8                            37.609                           94.997   \n",
       "9                            72.570                          118.585   \n",
       "10                           91.560                          114.347   \n",
       "11                           78.687                          136.096   \n",
       "12                          108.165                          116.636   \n",
       "13                          110.882                          121.377   \n",
       "14                          108.765                          110.127   \n",
       "15                           63.790                          121.344   \n",
       "16                           71.691                              NaN   \n",
       "17                              NaN                              NaN   \n",
       "\n",
       "    20210921_Exp1_position8_red.csv  20210618_Exp1_position3_red.csv  \\\n",
       "0                            21.769                          144.727   \n",
       "1                            45.543                          262.411   \n",
       "2                            68.359                          256.420   \n",
       "3                            97.792                          241.316   \n",
       "4                           140.689                          214.617   \n",
       "5                           134.439                          248.637   \n",
       "6                           136.285                          287.522   \n",
       "7                           135.067                          427.750   \n",
       "8                           109.774                          539.625   \n",
       "9                           103.572                          678.013   \n",
       "10                          113.664                          576.784   \n",
       "11                          114.494                          533.240   \n",
       "12                          104.873                          637.941   \n",
       "13                          123.814                          598.223   \n",
       "14                          100.267                          507.311   \n",
       "15                          108.420                          489.018   \n",
       "16                              NaN                          473.348   \n",
       "17                              NaN                          477.461   \n",
       "\n",
       "    20210618_Exp1_position4_red.csv  20210619_Exp1_position5_red.csv  \\\n",
       "0                            85.811                          135.385   \n",
       "1                           118.316                          140.060   \n",
       "2                           127.369                          168.922   \n",
       "3                           164.186                          223.129   \n",
       "4                           205.497                          271.308   \n",
       "5                           253.327                          314.061   \n",
       "6                           270.918                          386.072   \n",
       "7                           250.854                          381.192   \n",
       "8                           273.692                          351.994   \n",
       "9                           250.119                          348.757   \n",
       "10                          260.455                          348.184   \n",
       "11                          230.496                          304.828   \n",
       "12                          240.861                          302.689   \n",
       "13                          231.429                          295.155   \n",
       "14                          221.746                          281.841   \n",
       "15                          234.143                          327.667   \n",
       "16                          205.790                          326.187   \n",
       "17                          245.418                          329.347   \n",
       "\n",
       "    20210619_Exp1_position6_red.csv  20211217_Exp1_positio6_red.csv  \\\n",
       "0                            39.123                         -14.359   \n",
       "1                            27.891                          12.089   \n",
       "2                            33.277                           6.250   \n",
       "3                            41.663                          -9.496   \n",
       "4                            38.448                          16.413   \n",
       "5                            43.462                          11.750   \n",
       "6                            55.669                          20.527   \n",
       "7                            54.941                          27.438   \n",
       "8                            70.994                          19.150   \n",
       "9                            89.637                          29.574   \n",
       "10                          134.635                          34.461   \n",
       "11                          148.694                          22.485   \n",
       "12                          173.581                          29.367   \n",
       "13                          204.224                          34.580   \n",
       "14                          249.604                          54.459   \n",
       "15                          202.806                          54.308   \n",
       "16                          237.817                          49.111   \n",
       "17                          251.052                          46.895   \n",
       "\n",
       "    20211217_Exp1_positio7_red.csv  20211217_Exp1_position3_red.csv  \\\n",
       "0                           11.566                           15.096   \n",
       "1                           15.486                           15.468   \n",
       "2                           25.658                           23.220   \n",
       "3                           42.706                           39.241   \n",
       "4                           40.809                           60.607   \n",
       "5                           55.410                           36.222   \n",
       "6                           43.532                           41.783   \n",
       "7                           72.624                           34.747   \n",
       "8                           59.171                           33.559   \n",
       "9                           41.930                           21.782   \n",
       "10                          37.240                           31.717   \n",
       "11                          49.673                           47.711   \n",
       "12                          57.145                           29.813   \n",
       "13                          40.303                           40.995   \n",
       "14                          45.801                           44.081   \n",
       "15                          58.345                           41.866   \n",
       "16                          70.207                           36.195   \n",
       "17                          69.925                           40.070   \n",
       "\n",
       "    20211217_Exp1_position5_red.csv  20211218_Exp1_position4_red.csv  \\\n",
       "0                            10.123                           77.026   \n",
       "1                            13.577                           73.400   \n",
       "2                            36.506                           89.568   \n",
       "3                            48.411                           86.652   \n",
       "4                            45.622                           96.106   \n",
       "5                            49.000                          138.948   \n",
       "6                            28.873                          146.398   \n",
       "7                            21.094                          137.680   \n",
       "8                            22.516                          113.307   \n",
       "9                            39.669                          117.612   \n",
       "10                           30.313                          103.341   \n",
       "11                           49.212                          127.514   \n",
       "12                           43.787                          140.809   \n",
       "13                           37.501                          150.130   \n",
       "14                           47.398                          172.609   \n",
       "15                           62.740                          152.318   \n",
       "16                           79.177                          150.574   \n",
       "17                           87.410                          122.465   \n",
       "\n",
       "    20211218_Exp1_position5_red.csv  \n",
       "0                            47.165  \n",
       "1                            45.235  \n",
       "2                            41.161  \n",
       "3                            59.697  \n",
       "4                            61.510  \n",
       "5                            77.072  \n",
       "6                            61.062  \n",
       "7                            68.535  \n",
       "8                            70.217  \n",
       "9                            74.066  \n",
       "10                           92.322  \n",
       "11                           96.212  \n",
       "12                          103.875  \n",
       "13                          111.537  \n",
       "14                          111.488  \n",
       "15                           68.653  \n",
       "16                              NaN  \n",
       "17                              NaN  "
      ]
     },
     "execution_count": 339,
     "metadata": {},
     "output_type": "execute_result"
    }
   ],
   "source": [
    "intensities_all_par1"
   ]
  },
  {
   "cell_type": "code",
   "execution_count": 9,
   "metadata": {},
   "outputs": [
    {
     "data": {
      "text/plain": [
       "Text(0.5, 1.0, 'Original Data')"
      ]
     },
     "execution_count": 9,
     "metadata": {},
     "output_type": "execute_result"
    },
    {
     "data": {
      "image/png": "[encoded data removed]",
      "text/plain": [
       "<Figure size 432x288 with 1 Axes>"
      ]
     },
     "metadata": {
      "needs_background": "light"
     },
     "output_type": "display_data"
    }
   ],
   "source": [
    "#xs = np.arange(34)*dt\n",
    "#ys = par1_mean[2:36]\n",
    "\n",
    "\n",
    "#xs = np.arange(68)*dt\n",
    "#ys = baz_mean[2:70]\n",
    "\n",
    "\n",
    "#ys = intensities_all[intensities_all.columns[0::2]].dropna().mean(axis=1)\n",
    "ys = intensities_all_par1.mean(axis=1)\n",
    "xs = np.arange(len(ys))*dt\n",
    "\n",
    "plt.plot(xs, ys, '.')\n",
    "plt.title(\"Original Data\")"
   ]
  },
  {
   "cell_type": "code",
   "execution_count": 350,
   "metadata": {},
   "outputs": [],
   "source": [
    "\n",
    "\n",
    "xs = xs[0:-2]\n",
    "ys = ys[0:-2]"
   ]
  },
  {
   "cell_type": "code",
   "execution_count": 10,
   "metadata": {},
   "outputs": [
    {
     "name": "stdout",
     "output_type": "stream",
     "text": [
      "R² = 0.9755091120238859\n",
      "Y = 144.21344602441636 * (1-e^(-0.00011843080306046771 * x)) + 3591.8638206600826\n",
      "T_1/2 = 5852.760959545653\n"
     ]
    },
    {
     "data": {
      "image/png": "[encoded data removed]",
      "text/plain": [
       "<Figure size 432x288 with 1 Axes>"
      ]
     },
     "metadata": {
      "needs_background": "light"
     },
     "output_type": "display_data"
    }
   ],
   "source": [
    "# perform the fit\n",
    "#p0=[1,1,max(ys)]\n",
    "#p0 = [1, -np.log(0.5)/300, max(ys)]\n",
    "#p0 = [1, -np.log(0.5)/300, 0]\n",
    "p0=[max(ys), -np.log(0.5)/300,0]\n",
    "params, cv = scipy.optimize.curve_fit(monoExp2, xs, ys, p0, maxfev=10000)\n",
    "m, t, k = params\n",
    "t_half = np.log(0.5)/(-t)\n",
    "\n",
    "# determine quality of the fit\n",
    "squaredDiffs = np.square(ys - monoExp2(xs, m, t, k))\n",
    "squaredDiffsFromMean = np.square(ys - np.mean(ys))\n",
    "rSquared = 1 - np.sum(squaredDiffs) / np.sum(squaredDiffsFromMean)\n",
    "print(f\"R² = {rSquared}\")\n",
    "\n",
    "# plot the results\n",
    "plt.plot(xs, ys, '.', label=\"data\")\n",
    "plt.plot(xs, monoExp2(xs, m, t, k), '--', label=\"fitted\")\n",
    "plt.title(\"Fitted Exponential Curve\")\n",
    "\n",
    "#plt.plot(xs, monoExp2(xs, m_baz, t_baz, k_baz), '--', label=\"fitted\")\n",
    "\n",
    "# inspect the parameters\n",
    "print(f\"Y = {m} * (1-e^(-{t} * x)) + {k}\")\n",
    "#print(f\"Tau = {tauSec * 1e6} µs\")\n",
    "print(f\"T_1/2 = {t_half}\")"
   ]
  },
  {
   "cell_type": "code",
   "execution_count": 11,
   "metadata": {},
   "outputs": [
    {
     "name": "stdout",
     "output_type": "stream",
     "text": [
      "R² = 0.9755091120276036\n",
      "Y = -144.21270901527825 * (e^(-0.00011843200108139225 * x)) + 3736.0764339639386\n",
      "T_1/2 = 5852.701754854084\n"
     ]
    },
    {
     "data": {
      "image/png": "[encoded data removed]",
      "text/plain": [
       "<Figure size 432x288 with 1 Axes>"
      ]
     },
     "metadata": {
      "needs_background": "light"
     },
     "output_type": "display_data"
    }
   ],
   "source": [
    "# perform the fit\n",
    "#p0=[1,1,max(ys)]\n",
    "#p0 = [1, -np.log(0.5)/300, max(ys)]\n",
    "#p0 = [1, -np.log(0.5)/300, 0]\n",
    "p0=[max(ys), -np.log(0.5)/300,0]\n",
    "params, cv = scipy.optimize.curve_fit(monoExp, xs, ys, p0, maxfev=10000)\n",
    "m, t, k = params\n",
    "t_half = np.log(0.5)/(-t)\n",
    "\n",
    "# determine quality of the fit\n",
    "squaredDiffs = np.square(ys - monoExp(xs, m, t, k))\n",
    "squaredDiffsFromMean = np.square(ys - np.mean(ys))\n",
    "rSquared = 1 - np.sum(squaredDiffs) / np.sum(squaredDiffsFromMean)\n",
    "print(f\"R² = {rSquared}\")\n",
    "\n",
    "# plot the results\n",
    "plt.plot(xs, ys, '.', label=\"data\")\n",
    "plt.plot(xs, monoExp(xs, m, t, k), '--', label=\"fitted\")\n",
    "plt.title(\"Fitted Exponential Curve\")\n",
    "\n",
    "#plt.plot(xs, monoExp2(xs, m_baz, t_baz, k_baz), '--', label=\"fitted\")\n",
    "\n",
    "# inspect the parameters\n",
    "print(f\"Y = {m} * (e^(-{t} * x)) + {k}\")\n",
    "#print(f\"Tau = {tauSec * 1e6} µs\")\n",
    "print(f\"T_1/2 = {t_half}\")"
   ]
  },
  {
   "cell_type": "code",
   "execution_count": 13,
   "metadata": {},
   "outputs": [
    {
     "name": "stdout",
     "output_type": "stream",
     "text": [
      "[-6.86074663e+04 -2.85495480e+03 -5.65755036e-07  3.78783205e+04]\n"
     ]
    },
    {
     "data": {
      "image/png": "[encoded data removed]",
      "text/plain": [
       "<Figure size 432x288 with 1 Axes>"
      ]
     },
     "metadata": {
      "needs_background": "light"
     },
     "output_type": "display_data"
    }
   ],
   "source": [
    "def sigmoid(x, L ,x0, k, b):\n",
    "    y = L / (1 + np.exp(-k*(x-x0)))+b\n",
    "    return (y)\n",
    "\n",
    "\n",
    "\n",
    "#baz_mean_ablation = intensities_all.Mean\n",
    "#ys_sigm = baz_mean_ablation[0:121]\n",
    "#ys = baz_mean_ablation\n",
    "\n",
    "xs_sigm = df.index.values\n",
    "ys_sigm = df.Mean.values#-df.Mean.values[0]\n",
    "#ys_sigm = ys_sigm/ys_sigm.max()\n",
    "\n",
    "#index = pd.date_range('1/1/2000', periods=len(ys_sigm), freq='60s')\n",
    "#series = pd.Series(ys_sigm.values, index=index)\n",
    "#ys_sigm = series.resample(\"1 min\").mean()\n",
    "\n",
    "#xs_sigm = np.arange(len(ys_sigm))*dt\n",
    "\n",
    "\n",
    "p0 = [max(ys_sigm), np.median(xs_sigm),0,min(ys_sigm)] # this is an mandatory initial guess\n",
    "\n",
    "#popt, pcov = scipy.optimize.curve_fit(sigmoid, xs_sigm, ys_sigm,p0, maxfev = 10000)#, method='dogbox')\n",
    "popt, pcov = scipy.optimize.curve_fit(sigmoid, xs_sigm, ys_sigm,p0, maxfev = 10000)#, bounds=([-500, 0, -np.inf, -np.inf], [np.inf, np.inf, np.inf, np.inf]))\n",
    "\n",
    "L_sigm, x0_sigm, k_sigm, b_sigm = popt\n",
    "\n",
    "\n",
    "# plot the results\n",
    "plt.plot(xs_sigm, ys_sigm, '.', label=\"data\")\n",
    "\n",
    "#xs_sigm = np.arange(len(ys_sigm)+20)*dt\n",
    "\n",
    "plt.plot(xs_sigm, sigmoid(xs_sigm, L_sigm, x0_sigm, k_sigm, b_sigm), '--', label=\"fitted\")\n",
    "plt.title(\"Fitted Sigmoidal Curve\")\n",
    "print(popt)\n",
    "#plt.plot(xs_sigm, monoExp2(xs_sigm, m, t, k), '--', label=\"fitted\")\n",
    "#plt.plot(xs_sigm, sigmoid(xs_sigm, L_aPKC, x0_aPKC, k_aPKC, b_aPKC), '--', label=\"fitted\")\n",
    "\n",
    "#plt.plot(xs_sigm, monoExp2(xs_sigm, m_baz, t_baz, k_baz), '--', label=\"fitted\")\n",
    "\n"
   ]
  },
  {
   "cell_type": "code",
   "execution_count": 44,
   "metadata": {},
   "outputs": [],
   "source": [
    "\n",
    "L_l, x0_l, k_l, b_l = popt\n"
   ]
  },
  {
   "cell_type": "code",
   "execution_count": 54,
   "metadata": {},
   "outputs": [
    {
     "data": {
      "text/plain": [
       "(152306.86731711437,\n",
       " -40292.57687582873,\n",
       " 0.00016568422781176764,\n",
       " -152075.5347785577)"
      ]
     },
     "execution_count": 54,
     "metadata": {},
     "output_type": "execute_result"
    }
   ],
   "source": [
    "L_l, x0_l, k_l, b_l"
   ]
  },
  {
   "cell_type": "code",
   "execution_count": 72,
   "metadata": {},
   "outputs": [
    {
     "data": {
      "text/plain": [
       "array([ 8.75724015e+02, -4.39524204e+02, -4.42065044e-04,  1.40005790e+02])"
      ]
     },
     "execution_count": 72,
     "metadata": {},
     "output_type": "execute_result"
    }
   ],
   "source": [
    "popt"
   ]
  },
  {
   "cell_type": "code",
   "execution_count": 151,
   "metadata": {},
   "outputs": [],
   "source": [
    "L_aPKC, x0_aPKC, k_aPKC, b_aPKC = popt\n"
   ]
  }
 ],
 "metadata": {
  "kernelspec": {
   "display_name": "Python 3.8.5 32-bit",
   "language": "python",
   "name": "python3"
  },
  "language_info": {
   "codemirror_mode": {
    "name": "ipython",
    "version": 3
   },
   "file_extension": ".py",
   "mimetype": "text/x-python",
   "name": "python",
   "nbconvert_exporter": "python",
   "pygments_lexer": "ipython3",
   "version": "3.8.5"
  },
  "orig_nbformat": 2,
  "vscode": {
   "interpreter": {
    "hash": "083054d8244ff3ab94392c15cbfdd5ffc77b45ec4bb31f0c259d110839c1d297"
   }
  }
 },
 "nbformat": 4,
 "nbformat_minor": 2
}
