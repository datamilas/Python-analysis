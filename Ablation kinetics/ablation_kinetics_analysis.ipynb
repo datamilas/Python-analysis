{
 "metadata": {
  "language_info": {
   "codemirror_mode": {
    "name": "ipython",
    "version": 3
   },
   "file_extension": ".py",
   "mimetype": "text/x-python",
   "name": "python",
   "nbconvert_exporter": "python",
   "pygments_lexer": "ipython3",
   "version": "3.8.3"
  },
  "orig_nbformat": 2,
  "kernelspec": {
   "name": "python3",
   "display_name": "Python 3.8.3 64-bit ('base': conda)"
  },
  "interpreter": {
   "hash": "e2508fbeaf0035d4c531c3d527c39fb188abce83002e3c53cf0e64c03f8f5210"
  }
 },
 "nbformat": 4,
 "nbformat_minor": 2,
 "cells": [
  {
   "cell_type": "code",
   "execution_count": 1,
   "source": [
    "import pandas as pd\r\n",
    "import numpy as np\r\n",
    "from os import listdir\r\n",
    "\r\n",
    "import matplotlib.pyplot as plt\r\n",
    "import matplotlib as mpl\r\n",
    "import matplotlib.patches as mpatches\r\n",
    "from pylab import cm\r\n",
    "\r\n",
    "#from my_functions import find_min_distance"
   ],
   "outputs": [],
   "metadata": {}
  },
  {
   "cell_type": "code",
   "execution_count": 177,
   "source": [
    "px_size = 0.1625\r\n",
    "dt = 15 #frame interval in seconds"
   ],
   "outputs": [],
   "metadata": {}
  },
  {
   "cell_type": "code",
   "execution_count": 465,
   "source": [
    "directory = 'Baz_Jupiter//intensities_all_frames//'\r\n",
    "title=\"Bazooka_ablation\"\r\n",
    "dt = 30 #frame interval in seconds\r\n",
    "\r\n",
    "\r\n",
    "#directory = 'Par1_Baz//'\r\n",
    "#title=\"Bazooka_ablation\"\r\n",
    "#dt = 60 #frame interval in seconds\r\n",
    "\r\n",
    "\r\n",
    "\r\n",
    "#directory = \"C://Users//amilas//Desktop//Python-analysis//FRAP//Par1//\"\r\n",
    "#title=\"Par1_FRAP\"\r\n",
    "\r\n",
    "#directory = \"C://Users//amilas//Desktop//Python-analysis//FRAP//Bazooka//\"\r\n",
    "#title=\"Bazooka_FRAP\"\r\n",
    "\r\n",
    "\r\n",
    "files = listdir(directory)"
   ],
   "outputs": [],
   "metadata": {}
  },
  {
   "cell_type": "code",
   "execution_count": 467,
   "source": [
    "\r\n",
    "#COLOR = 'black'\r\n",
    "COLOR = 'white'\r\n",
    "mpl.rcParams['text.color'] = COLOR\r\n",
    "mpl.rcParams['axes.labelcolor'] = COLOR\r\n",
    "mpl.rcParams['axes.edgecolor'] = COLOR\r\n",
    "mpl.rcParams['xtick.color'] = COLOR\r\n",
    "mpl.rcParams['ytick.color'] = COLOR\r\n",
    "\r\n",
    "# Make text editable in illustrator\r\n",
    "mpl.rcParams['pdf.fonttype'] = 42\r\n",
    "mpl.rcParams['ps.fonttype'] = 42\r\n",
    "\r\n",
    "# Create figure object and store it in a variable called 'fig'\r\n",
    "fig = plt.figure(figsize=(5, 3))\r\n",
    "\r\n",
    "# Add axes object to the figure that takes up entire figure\r\n",
    "ax = fig.add_axes([0, 0, 1, 1])\r\n",
    "\r\n",
    "# Edit the major and minor ticks of the x and y axes\r\n",
    "ax.xaxis.set_tick_params(which='major', size=7, width=1, direction='in', top='on')\r\n",
    "ax.xaxis.set_tick_params(which='minor', size=7, width=1, direction='in', top='on')\r\n",
    "ax.yaxis.set_tick_params(which='major', size=7, width=1, direction='in', right='on')\r\n",
    "ax.yaxis.set_tick_params(which='minor', size=7, width=1, direction='in', right='on')\r\n",
    "\r\n",
    "# Add the x and y-axis labels\r\n",
    "ax.set_xlabel('Time (s)', labelpad=10)\r\n",
    "ax.set_ylabel('Normalized Intensity', labelpad=10)\r\n",
    "\r\n",
    "\r\n",
    "intensities_all = pd.DataFrame()\r\n",
    "\r\n",
    "\r\n",
    "\r\n",
    "for index, file in enumerate(files[0::2]):\r\n",
    "#for index, file in enumerate(files[0::4]):\r\n",
    "\r\n",
    "    intensities = pd.read_csv(directory+file)\r\n",
    "    background = pd.read_csv(directory+files[index*2+1])\r\n",
    "\r\n",
    "    #subtract background\r\n",
    "    intensities[\"Background_norm\"] = intensities.Median - background.Median\r\n",
    "\r\n",
    "    intensities[\"Mean\"] = intensities.Background_norm\r\n",
    "    \r\n",
    "    #normalize\r\n",
    "    if \"ablation\" in title:\r\n",
    "        #intensities[\"Normalized\"] = intensities.Mean - intensities.Mean[0]\r\n",
    "        #intensities[\"Normalized\"] = intensities.Mean - intensities.Mean.min()\r\n",
    "        intensities[\"Normalized\"] = intensities.Mean\r\n",
    "    else:\r\n",
    "    #intensities[\"Normalized\"] = intensities.Mean - intensities.Mean.min()\r\n",
    "        intensities[\"Normalized\"] = intensities.Mean - intensities.Mean[2]\r\n",
    "    \r\n",
    "    intensities[file] = intensities[\"Normalized\"]/intensities[\"Normalized\"].max()\r\n",
    "\r\n",
    "\r\n",
    "    #final_intensities = intensities[intensities[intensities[file]==0].index.item():].reset_index()[file]\r\n",
    "    \r\n",
    "    final_intensities = intensities.reset_index()[file]\r\n",
    "\r\n",
    "    #index = pd.date_range('1/1/2000', periods=len(final_intensities), freq='30s')\r\n",
    "    #series = pd.Series(final_intensities.values, index=index)\r\n",
    "    #final_intensities = series.resample(\"2 min\").mean()\r\n",
    "\r\n",
    "\r\n",
    "    print(len(intensities))\r\n",
    "    if len(intensities)>0: #and \"green\" in file:\r\n",
    "        intensities_all = pd.concat([intensities_all, final_intensities], axis=1)\r\n",
    "     \r\n",
    "        ax.plot(np.arange(len(final_intensities))*dt, final_intensities, linewidth=2)\r\n",
    "\r\n",
    "        #xs = np.arange(len(final_intensities))*dt*4\r\n",
    "        #ys = final_intensities\r\n",
    "        #p0 = [max(ys), np.median(xs),0,min(ys)] # this is an mandatory initial guess\r\n",
    "        #popt, pcov = scipy.optimize.curve_fit(sigmoid, xs, ys,p0, method='dogbox')\r\n",
    "        #L, x0, k, b = popt\r\n",
    "        # plot the results\r\n",
    "        #ax.plot(xs, sigmoid(xs, L, x0, k, b), '--', label=\"fitted\")\r\n",
    "\r\n",
    "\r\n",
    "\r\n",
    "\r\n",
    "\r\n",
    "intensities_all['Mean'] = intensities_all.mean(axis=1)\r\n",
    "ax.plot(np.arange(len(intensities_all.Mean))*dt, intensities_all.Mean, linewidth=5, color=\"black\")\r\n",
    "\r\n",
    "\r\n",
    "\r\n",
    "#ax.plot(xs, monoExp(xs, m, t), linewidth=5, color=\"black\")\r\n"
   ],
   "outputs": [
    {
     "output_type": "stream",
     "name": "stdout",
     "text": [
      "142\n",
      "137\n",
      "135\n",
      "137\n",
      "121\n",
      "128\n",
      "168\n",
      "130\n",
      "181\n",
      "178\n",
      "175\n",
      "180\n"
     ]
    },
    {
     "output_type": "execute_result",
     "data": {
      "text/plain": [
       "[<matplotlib.lines.Line2D at 0x21739917790>]"
      ]
     },
     "metadata": {},
     "execution_count": 467
    },
    {
     "output_type": "display_data",
     "data": {
      "image/png": "[encoded data removed]",
      "text/plain": [
       "<Figure size 360x216 with 1 Axes>"
      ]
     },
     "metadata": {
      "needs_background": "dark"
     }
    }
   ],
   "metadata": {}
  },
  {
   "cell_type": "code",
   "execution_count": 372,
   "source": [
    "intensities_all"
   ],
   "outputs": [
    {
     "output_type": "execute_result",
     "data": {
      "text/html": [
       "<div>\n",
       "<style scoped>\n",
       "    .dataframe tbody tr th:only-of-type {\n",
       "        vertical-align: middle;\n",
       "    }\n",
       "\n",
       "    .dataframe tbody tr th {\n",
       "        vertical-align: top;\n",
       "    }\n",
       "\n",
       "    .dataframe thead th {\n",
       "        text-align: right;\n",
       "    }\n",
       "</style>\n",
       "<table border=\"1\" class=\"dataframe\">\n",
       "  <thead>\n",
       "    <tr style=\"text-align: right;\">\n",
       "      <th></th>\n",
       "      <th>20201119_Oocyte3_green.csv</th>\n",
       "      <th>20201119_Oocyte3_red.csv</th>\n",
       "      <th>20201119_Oocyte5_green.csv</th>\n",
       "      <th>20201119_Oocyte5_red.csv</th>\n",
       "      <th>Mean</th>\n",
       "    </tr>\n",
       "  </thead>\n",
       "  <tbody>\n",
       "    <tr>\n",
       "      <th>0</th>\n",
       "      <td>215.0</td>\n",
       "      <td>25.5</td>\n",
       "      <td>341.5</td>\n",
       "      <td>84.0</td>\n",
       "      <td>166.500</td>\n",
       "    </tr>\n",
       "    <tr>\n",
       "      <th>1</th>\n",
       "      <td>214.0</td>\n",
       "      <td>33.0</td>\n",
       "      <td>328.0</td>\n",
       "      <td>77.5</td>\n",
       "      <td>163.125</td>\n",
       "    </tr>\n",
       "    <tr>\n",
       "      <th>2</th>\n",
       "      <td>176.0</td>\n",
       "      <td>38.0</td>\n",
       "      <td>260.5</td>\n",
       "      <td>82.5</td>\n",
       "      <td>139.250</td>\n",
       "    </tr>\n",
       "    <tr>\n",
       "      <th>3</th>\n",
       "      <td>190.0</td>\n",
       "      <td>54.0</td>\n",
       "      <td>209.0</td>\n",
       "      <td>77.0</td>\n",
       "      <td>132.500</td>\n",
       "    </tr>\n",
       "    <tr>\n",
       "      <th>4</th>\n",
       "      <td>214.0</td>\n",
       "      <td>43.0</td>\n",
       "      <td>128.0</td>\n",
       "      <td>83.5</td>\n",
       "      <td>117.125</td>\n",
       "    </tr>\n",
       "    <tr>\n",
       "      <th>...</th>\n",
       "      <td>...</td>\n",
       "      <td>...</td>\n",
       "      <td>...</td>\n",
       "      <td>...</td>\n",
       "      <td>...</td>\n",
       "    </tr>\n",
       "    <tr>\n",
       "      <th>75</th>\n",
       "      <td>NaN</td>\n",
       "      <td>NaN</td>\n",
       "      <td>60.0</td>\n",
       "      <td>165.0</td>\n",
       "      <td>112.500</td>\n",
       "    </tr>\n",
       "    <tr>\n",
       "      <th>76</th>\n",
       "      <td>NaN</td>\n",
       "      <td>NaN</td>\n",
       "      <td>93.5</td>\n",
       "      <td>153.0</td>\n",
       "      <td>123.250</td>\n",
       "    </tr>\n",
       "    <tr>\n",
       "      <th>77</th>\n",
       "      <td>NaN</td>\n",
       "      <td>NaN</td>\n",
       "      <td>81.0</td>\n",
       "      <td>178.5</td>\n",
       "      <td>129.750</td>\n",
       "    </tr>\n",
       "    <tr>\n",
       "      <th>78</th>\n",
       "      <td>NaN</td>\n",
       "      <td>NaN</td>\n",
       "      <td>70.0</td>\n",
       "      <td>187.5</td>\n",
       "      <td>128.750</td>\n",
       "    </tr>\n",
       "    <tr>\n",
       "      <th>79</th>\n",
       "      <td>NaN</td>\n",
       "      <td>NaN</td>\n",
       "      <td>78.0</td>\n",
       "      <td>182.0</td>\n",
       "      <td>130.000</td>\n",
       "    </tr>\n",
       "  </tbody>\n",
       "</table>\n",
       "<p>80 rows × 5 columns</p>\n",
       "</div>"
      ],
      "text/plain": [
       "    20201119_Oocyte3_green.csv  20201119_Oocyte3_red.csv  \\\n",
       "0                        215.0                      25.5   \n",
       "1                        214.0                      33.0   \n",
       "2                        176.0                      38.0   \n",
       "3                        190.0                      54.0   \n",
       "4                        214.0                      43.0   \n",
       "..                         ...                       ...   \n",
       "75                         NaN                       NaN   \n",
       "76                         NaN                       NaN   \n",
       "77                         NaN                       NaN   \n",
       "78                         NaN                       NaN   \n",
       "79                         NaN                       NaN   \n",
       "\n",
       "    20201119_Oocyte5_green.csv  20201119_Oocyte5_red.csv     Mean  \n",
       "0                        341.5                      84.0  166.500  \n",
       "1                        328.0                      77.5  163.125  \n",
       "2                        260.5                      82.5  139.250  \n",
       "3                        209.0                      77.0  132.500  \n",
       "4                        128.0                      83.5  117.125  \n",
       "..                         ...                       ...      ...  \n",
       "75                        60.0                     165.0  112.500  \n",
       "76                        93.5                     153.0  123.250  \n",
       "77                        81.0                     178.5  129.750  \n",
       "78                        70.0                     187.5  128.750  \n",
       "79                        78.0                     182.0  130.000  \n",
       "\n",
       "[80 rows x 5 columns]"
      ]
     },
     "metadata": {},
     "execution_count": 372
    }
   ],
   "metadata": {}
  },
  {
   "cell_type": "code",
   "execution_count": 16,
   "source": [
    "\r\n",
    "fig.savefig(f'{title}.pdf', dpi=300, transparent=True, bbox_inches='tight')\r\n",
    "fig.savefig(f'{title}.png', dpi=300, transparent=True, bbox_inches='tight')\r\n",
    "\r\n",
    "#fig.savefig(f'{title}.pdf', dpi=300, transparent=False, bbox_inches='tight')\r\n",
    "#fig.savefig(f'{title}.png', dpi=300, transparent=False, bbox_inches='tight')"
   ],
   "outputs": [],
   "metadata": {}
  },
  {
   "cell_type": "code",
   "execution_count": 127,
   "source": [
    "#par1_mean = intensities_all.Mean\r\n",
    "#baz_mean = intensities_all.Mean\r\n",
    "baz_mean_ablation = intensities_all.Mean"
   ],
   "outputs": [],
   "metadata": {}
  },
  {
   "cell_type": "code",
   "execution_count": 52,
   "source": [
    "fig = plt.figure(figsize=(5, 3))\r\n",
    "ax = fig.add_axes([0, 0, 1, 1])\r\n",
    "\r\n",
    "ax.plot(np.arange(70)*dt, baz_mean[0:70], linewidth=5, color=\"orange\")\r\n",
    "ax.plot(np.arange(70)*dt, par1_mean[0:70], linewidth=5, color=\"blue\")\r\n"
   ],
   "outputs": [
    {
     "output_type": "error",
     "ename": "NameError",
     "evalue": "name 'baz_mean' is not defined",
     "traceback": [
      "\u001b[1;31m---------------------------------------------------------------------------\u001b[0m",
      "\u001b[1;31mNameError\u001b[0m                                 Traceback (most recent call last)",
      "\u001b[1;32m<ipython-input-52-d02d4caeca3b>\u001b[0m in \u001b[0;36m<module>\u001b[1;34m\u001b[0m\n\u001b[0;32m      2\u001b[0m \u001b[0max\u001b[0m \u001b[1;33m=\u001b[0m \u001b[0mfig\u001b[0m\u001b[1;33m.\u001b[0m\u001b[0madd_axes\u001b[0m\u001b[1;33m(\u001b[0m\u001b[1;33m[\u001b[0m\u001b[1;36m0\u001b[0m\u001b[1;33m,\u001b[0m \u001b[1;36m0\u001b[0m\u001b[1;33m,\u001b[0m \u001b[1;36m1\u001b[0m\u001b[1;33m,\u001b[0m \u001b[1;36m1\u001b[0m\u001b[1;33m]\u001b[0m\u001b[1;33m)\u001b[0m\u001b[1;33m\u001b[0m\u001b[1;33m\u001b[0m\u001b[0m\n\u001b[0;32m      3\u001b[0m \u001b[1;33m\u001b[0m\u001b[0m\n\u001b[1;32m----> 4\u001b[1;33m \u001b[0max\u001b[0m\u001b[1;33m.\u001b[0m\u001b[0mplot\u001b[0m\u001b[1;33m(\u001b[0m\u001b[0mnp\u001b[0m\u001b[1;33m.\u001b[0m\u001b[0marange\u001b[0m\u001b[1;33m(\u001b[0m\u001b[1;36m70\u001b[0m\u001b[1;33m)\u001b[0m\u001b[1;33m*\u001b[0m\u001b[0mdt\u001b[0m\u001b[1;33m,\u001b[0m \u001b[0mbaz_mean\u001b[0m\u001b[1;33m[\u001b[0m\u001b[1;36m0\u001b[0m\u001b[1;33m:\u001b[0m\u001b[1;36m70\u001b[0m\u001b[1;33m]\u001b[0m\u001b[1;33m,\u001b[0m \u001b[0mlinewidth\u001b[0m\u001b[1;33m=\u001b[0m\u001b[1;36m5\u001b[0m\u001b[1;33m,\u001b[0m \u001b[0mcolor\u001b[0m\u001b[1;33m=\u001b[0m\u001b[1;34m\"orange\"\u001b[0m\u001b[1;33m)\u001b[0m\u001b[1;33m\u001b[0m\u001b[1;33m\u001b[0m\u001b[0m\n\u001b[0m\u001b[0;32m      5\u001b[0m \u001b[0max\u001b[0m\u001b[1;33m.\u001b[0m\u001b[0mplot\u001b[0m\u001b[1;33m(\u001b[0m\u001b[0mnp\u001b[0m\u001b[1;33m.\u001b[0m\u001b[0marange\u001b[0m\u001b[1;33m(\u001b[0m\u001b[1;36m70\u001b[0m\u001b[1;33m)\u001b[0m\u001b[1;33m*\u001b[0m\u001b[0mdt\u001b[0m\u001b[1;33m,\u001b[0m \u001b[0mpar1_mean\u001b[0m\u001b[1;33m[\u001b[0m\u001b[1;36m0\u001b[0m\u001b[1;33m:\u001b[0m\u001b[1;36m70\u001b[0m\u001b[1;33m]\u001b[0m\u001b[1;33m,\u001b[0m \u001b[0mlinewidth\u001b[0m\u001b[1;33m=\u001b[0m\u001b[1;36m5\u001b[0m\u001b[1;33m,\u001b[0m \u001b[0mcolor\u001b[0m\u001b[1;33m=\u001b[0m\u001b[1;34m\"blue\"\u001b[0m\u001b[1;33m)\u001b[0m\u001b[1;33m\u001b[0m\u001b[1;33m\u001b[0m\u001b[0m\n",
      "\u001b[1;31mNameError\u001b[0m: name 'baz_mean' is not defined"
     ]
    },
    {
     "output_type": "display_data",
     "data": {
      "image/png": "[encoded data removed]",
      "text/plain": [
       "<Figure size 360x216 with 1 Axes>"
      ]
     },
     "metadata": {
      "needs_background": "dark"
     }
    }
   ],
   "metadata": {}
  },
  {
   "cell_type": "code",
   "execution_count": 19,
   "source": [
    "import scipy.optimize\r\n",
    "\r\n",
    "def monoExp(x, m, t):\r\n",
    "    return m * (1-np.exp(-t * x))"
   ],
   "outputs": [],
   "metadata": {}
  },
  {
   "cell_type": "code",
   "execution_count": 126,
   "source": [
    "#xs = np.arange(34)*dt\r\n",
    "#ys = par1_mean[2:36]\r\n",
    "\r\n",
    "\r\n",
    "#xs = np.arange(68)*dt\r\n",
    "#ys = baz_mean[2:70]\r\n",
    "\r\n",
    "\r\n",
    "xs = np.arange(130)*dt\r\n",
    "ys = baz_mean_ablation[0:130]\r\n",
    "\r\n",
    "plt.plot(xs, ys, '.')\r\n",
    "plt.title(\"Original Data\")"
   ],
   "outputs": [
    {
     "output_type": "execute_result",
     "data": {
      "text/plain": [
       "Text(0.5, 1.0, 'Original Data')"
      ]
     },
     "metadata": {},
     "execution_count": 126
    },
    {
     "output_type": "display_data",
     "data": {
      "image/png": "[encoded data removed]",
      "text/plain": [
       "<Figure size 432x288 with 1 Axes>"
      ]
     },
     "metadata": {
      "needs_background": "dark"
     }
    }
   ],
   "metadata": {}
  },
  {
   "cell_type": "code",
   "execution_count": 408,
   "source": [
    "# perform the fit\r\n",
    "#p0=[1,1]\r\n",
    "p0 = [1, -np.log(0.5)/300]\r\n",
    "params, cv = scipy.optimize.curve_fit(monoExp, xs, ys, p0)\r\n",
    "m, t = params\r\n",
    "t_half = np.log(0.5)/(-t)\r\n",
    "\r\n",
    "# determine quality of the fit\r\n",
    "squaredDiffs = np.square(ys - monoExp(xs, m, t))\r\n",
    "squaredDiffsFromMean = np.square(ys - np.mean(ys))\r\n",
    "rSquared = 1 - np.sum(squaredDiffs) / np.sum(squaredDiffsFromMean)\r\n",
    "print(f\"R² = {rSquared}\")\r\n",
    "\r\n",
    "# plot the results\r\n",
    "plt.plot(xs, ys, '.', label=\"data\")\r\n",
    "plt.plot(xs, monoExp(xs, m, t), '--', label=\"fitted\")\r\n",
    "plt.title(\"Fitted Exponential Curve\")\r\n",
    "\r\n",
    "# inspect the parameters\r\n",
    "print(f\"Y = {m} * (1-e^(-{t} * x))\")\r\n",
    "#print(f\"Tau = {tauSec * 1e6} µs\")\r\n",
    "print(f\"T_1/2 = {t_half}\")"
   ],
   "outputs": [
    {
     "output_type": "stream",
     "name": "stdout",
     "text": [
      "R² = -3.247117432070068\n",
      "Y = 296.79017857142856 * (1-e^(-0.6984397005801697 * x))\n",
      "T_1/2 = 0.992422366575342\n"
     ]
    },
    {
     "output_type": "stream",
     "name": "stderr",
     "text": [
      "C:\\Users\\amilas\\Miniconda3\\lib\\site-packages\\scipy\\optimize\\minpack.py:828: OptimizeWarning: Covariance of the parameters could not be estimated\n",
      "  warnings.warn('Covariance of the parameters could not be estimated',\n"
     ]
    },
    {
     "output_type": "display_data",
     "data": {
      "image/png": "[encoded data removed]",
      "text/plain": [
       "<Figure size 432x288 with 1 Axes>"
      ]
     },
     "metadata": {
      "needs_background": "dark"
     }
    }
   ],
   "metadata": {}
  },
  {
   "cell_type": "code",
   "execution_count": 470,
   "source": [
    "def sigmoid(x, L ,x0, k, b):\r\n",
    "    y = L / (1 + np.exp(-k*(x-x0)))+b\r\n",
    "    return (y)\r\n",
    "\r\n",
    "baz_mean_ablation = intensities_all.Mean\r\n",
    "ys = baz_mean_ablation[0:-15]\r\n",
    "#ys = baz_mean_ablation\r\n",
    "\r\n",
    "index = pd.date_range('1/1/2000', periods=len(ys), freq='30s')\r\n",
    "series = pd.Series(ys.values, index=index)\r\n",
    "ys = series.resample(\"10 min\").mean()\r\n",
    "\r\n",
    "xs = np.arange(len(ys))*dt*20\r\n",
    "\r\n",
    "\r\n",
    "p0 = [max(ys), np.median(xs),0,min(ys)] # this is an mandatory initial guess\r\n",
    "\r\n",
    "popt, pcov = scipy.optimize.curve_fit(sigmoid, xs, ys,p0, maxfev = 10000)#, method='dogbox')\r\n",
    "\r\n",
    "L, x0, k, b = popt\r\n",
    "\r\n",
    "# plot the results\r\n",
    "plt.plot(xs, ys, '.', label=\"data\")\r\n",
    "plt.plot(xs, sigmoid(xs, L, x0, k, b), '--', label=\"fitted\")\r\n",
    "plt.title(\"Fitted Sigmoidal Curve\")\r\n",
    "print(popt)\r\n",
    "\r\n"
   ],
   "outputs": [
    {
     "output_type": "stream",
     "name": "stdout",
     "text": [
      "[ 8.94196434e-01  1.49360321e+03  1.50716629e-03 -1.68830989e-01]\n"
     ]
    },
    {
     "output_type": "display_data",
     "data": {
      "image/png": "[encoded data removed]",
      "text/plain": [
       "<Figure size 432x288 with 1 Axes>"
      ]
     },
     "metadata": {
      "needs_background": "dark"
     }
    }
   ],
   "metadata": {}
  },
  {
   "cell_type": "code",
   "execution_count": 397,
   "source": [
    "intensities_all\r\n"
   ],
   "outputs": [
    {
     "output_type": "execute_result",
     "data": {
      "text/html": [
       "<div>\n",
       "<style scoped>\n",
       "    .dataframe tbody tr th:only-of-type {\n",
       "        vertical-align: middle;\n",
       "    }\n",
       "\n",
       "    .dataframe tbody tr th {\n",
       "        vertical-align: top;\n",
       "    }\n",
       "\n",
       "    .dataframe thead th {\n",
       "        text-align: right;\n",
       "    }\n",
       "</style>\n",
       "<table border=\"1\" class=\"dataframe\">\n",
       "  <thead>\n",
       "    <tr style=\"text-align: right;\">\n",
       "      <th></th>\n",
       "      <th>20201119_Oocyte3_red.csv</th>\n",
       "      <th>20201119_Oocyte7_red.csv</th>\n",
       "      <th>20201126_Oocyte1_red.csv</th>\n",
       "      <th>Mean</th>\n",
       "    </tr>\n",
       "  </thead>\n",
       "  <tbody>\n",
       "    <tr>\n",
       "      <th>0</th>\n",
       "      <td>25.5</td>\n",
       "      <td>56.0</td>\n",
       "      <td>54.0</td>\n",
       "      <td>45.166667</td>\n",
       "    </tr>\n",
       "    <tr>\n",
       "      <th>1</th>\n",
       "      <td>33.0</td>\n",
       "      <td>68.0</td>\n",
       "      <td>65.0</td>\n",
       "      <td>55.333333</td>\n",
       "    </tr>\n",
       "    <tr>\n",
       "      <th>2</th>\n",
       "      <td>38.0</td>\n",
       "      <td>51.5</td>\n",
       "      <td>67.0</td>\n",
       "      <td>52.166667</td>\n",
       "    </tr>\n",
       "    <tr>\n",
       "      <th>3</th>\n",
       "      <td>54.0</td>\n",
       "      <td>49.0</td>\n",
       "      <td>69.0</td>\n",
       "      <td>57.333333</td>\n",
       "    </tr>\n",
       "    <tr>\n",
       "      <th>4</th>\n",
       "      <td>43.0</td>\n",
       "      <td>54.0</td>\n",
       "      <td>88.0</td>\n",
       "      <td>61.666667</td>\n",
       "    </tr>\n",
       "    <tr>\n",
       "      <th>...</th>\n",
       "      <td>...</td>\n",
       "      <td>...</td>\n",
       "      <td>...</td>\n",
       "      <td>...</td>\n",
       "    </tr>\n",
       "    <tr>\n",
       "      <th>76</th>\n",
       "      <td>NaN</td>\n",
       "      <td>131.0</td>\n",
       "      <td>218.0</td>\n",
       "      <td>174.500000</td>\n",
       "    </tr>\n",
       "    <tr>\n",
       "      <th>77</th>\n",
       "      <td>NaN</td>\n",
       "      <td>143.0</td>\n",
       "      <td>226.0</td>\n",
       "      <td>184.500000</td>\n",
       "    </tr>\n",
       "    <tr>\n",
       "      <th>78</th>\n",
       "      <td>NaN</td>\n",
       "      <td>134.0</td>\n",
       "      <td>226.0</td>\n",
       "      <td>180.000000</td>\n",
       "    </tr>\n",
       "    <tr>\n",
       "      <th>79</th>\n",
       "      <td>NaN</td>\n",
       "      <td>NaN</td>\n",
       "      <td>224.0</td>\n",
       "      <td>224.000000</td>\n",
       "    </tr>\n",
       "    <tr>\n",
       "      <th>80</th>\n",
       "      <td>NaN</td>\n",
       "      <td>NaN</td>\n",
       "      <td>220.0</td>\n",
       "      <td>220.000000</td>\n",
       "    </tr>\n",
       "  </tbody>\n",
       "</table>\n",
       "<p>81 rows × 4 columns</p>\n",
       "</div>"
      ],
      "text/plain": [
       "    20201119_Oocyte3_red.csv  20201119_Oocyte7_red.csv  \\\n",
       "0                       25.5                      56.0   \n",
       "1                       33.0                      68.0   \n",
       "2                       38.0                      51.5   \n",
       "3                       54.0                      49.0   \n",
       "4                       43.0                      54.0   \n",
       "..                       ...                       ...   \n",
       "76                       NaN                     131.0   \n",
       "77                       NaN                     143.0   \n",
       "78                       NaN                     134.0   \n",
       "79                       NaN                       NaN   \n",
       "80                       NaN                       NaN   \n",
       "\n",
       "    20201126_Oocyte1_red.csv        Mean  \n",
       "0                       54.0   45.166667  \n",
       "1                       65.0   55.333333  \n",
       "2                       67.0   52.166667  \n",
       "3                       69.0   57.333333  \n",
       "4                       88.0   61.666667  \n",
       "..                       ...         ...  \n",
       "76                     218.0  174.500000  \n",
       "77                     226.0  184.500000  \n",
       "78                     226.0  180.000000  \n",
       "79                     224.0  224.000000  \n",
       "80                     220.0  220.000000  \n",
       "\n",
       "[81 rows x 4 columns]"
      ]
     },
     "metadata": {},
     "execution_count": 397
    }
   ],
   "metadata": {}
  }
 ]
}