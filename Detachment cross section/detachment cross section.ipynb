{
 "cells": [
  {
   "cell_type": "code",
   "execution_count": 1,
   "metadata": {},
   "outputs": [],
   "source": [
    "import pandas as pd\n",
    "import numpy as np\n",
    "import matplotlib as mpl\n",
    "import matplotlib.pyplot as plt\n",
    "import seaborn as sns\n"
   ]
  },
  {
   "cell_type": "code",
   "execution_count": 44,
   "metadata": {},
   "outputs": [],
   "source": [
    "def plot_profiles(channels, colors, COLOR, sec_axis=False, save=False, title=\"\", plot_size=\"big\"):\n",
    "    px_size=0.1625\n",
    "\n",
    "    # Edit the font, font size, color and axes width\n",
    "    \n",
    "    if plot_size == \"small\":\n",
    "        plt.rcParams['font.size'] = 10\n",
    "        plt.rcParams['axes.linewidth'] = 0.5\n",
    "        fig_width=2\n",
    "        fig_height=1.5\n",
    "        tick_size=3\n",
    "        \n",
    "    else:\n",
    "        plt.rcParams['font.size'] = 18\n",
    "        plt.rcParams['axes.linewidth'] = 1\n",
    "        fig_width=5\n",
    "        fig_height=4\n",
    "        tick_size=7\n",
    "\n",
    "    \n",
    "    mpl.rcParams['font.family'] = 'Arial'\n",
    "    \n",
    "\n",
    "    mpl.rcParams['text.color'] = COLOR\n",
    "    mpl.rcParams['axes.labelcolor'] = COLOR\n",
    "    mpl.rcParams['axes.edgecolor'] = COLOR\n",
    "    mpl.rcParams['xtick.color'] = COLOR\n",
    "    mpl.rcParams['ytick.color'] = COLOR\n",
    "\n",
    "    # Make text editable in illustrator\n",
    "    mpl.rcParams['pdf.fonttype'] = 42\n",
    "    mpl.rcParams['ps.fonttype'] = 42\n",
    "\n",
    "    # Create figure object and store it in a variable called 'fig'\n",
    "    fig = plt.figure(figsize=(fig_width, fig_height))\n",
    "\n",
    "    # Add axes object to the figure that takes up entire figure\n",
    "    ax = fig.add_axes([0, 0, 1, 1])\n",
    "\n",
    "    # Edit the major and minor ticks of the x and y axes\n",
    "    ax.xaxis.set_tick_params(which='major', size=tick_size, width=plt.rcParams['axes.linewidth'], direction='in', top='on')\n",
    "    ax.xaxis.set_tick_params(which='minor', size=tick_size, width=plt.rcParams['axes.linewidth'], direction='in', top='on')\n",
    "    ax.yaxis.set_tick_params(which='major', size=tick_size, width=plt.rcParams['axes.linewidth'], direction='in', right='on')\n",
    "    ax.yaxis.set_tick_params(which='minor', size=tick_size, width=plt.rcParams['axes.linewidth'], direction='in', right='on')\n",
    "\n",
    "    # Add the x and y-axis labels\n",
    "    ax.set_xlabel(r'Position ($\\mathregular{\\mu}$m)', labelpad=10)\n",
    "    \n",
    "\n",
    "\n",
    "    if (len(channels)==2) and (sec_axis==True):\n",
    "\n",
    "        profile_first = pd.read_csv(channels[0]+\".csv\")[::-1].reset_index(drop=True)\n",
    "        profile_second = pd.read_csv(channels[1]+\".csv\")[::-1].reset_index(drop=True)\n",
    "\n",
    "        min_second_index = profile_second[profile_second.Gray_Value == min(profile_second.iloc[50:-50].Gray_Value)]\n",
    "        print(min_second_index)\n",
    "        min_second_index = min_second_index.index[0]\n",
    "\n",
    "\n",
    "        x_axis = (np.arange(0, len(profile_first))-min_second_index-1)*px_size\n",
    "        ax.plot(x_axis, profile_first.Gray_Value, linewidth=plt.rcParams['axes.linewidth']*2, color=colors[0], alpha=1, label=channels[0])\n",
    "        ax.vlines(0, -10, 1000, color=\"black\", linewidth=plt.rcParams['axes.linewidth'])\n",
    "        ax.set_ylim([-10, 1000])\n",
    "\n",
    "        ax2 = ax.twinx()\n",
    "        ax2.plot(x_axis, profile_second.Gray_Value, linewidth=plt.rcParams['axes.linewidth']*2, color=colors[1], alpha=1, label=channels[1])\n",
    "        \n",
    "        ax.set_ylabel(channels[0] + ' signal intensity', labelpad=10)\n",
    "        ax2.set_ylabel(channels[1] + ' signal intensity', labelpad=10)\n",
    "\n",
    "    else:\n",
    "        for channel, color in zip(channels, colors):\n",
    "\n",
    "            profile = pd.read_csv(channel+\".csv\")[::-1].reset_index(drop=True)\n",
    "            x_axis = np.arange(0, len(profile))*px_size\n",
    "\n",
    "            ax.plot(x_axis, profile.Gray_Value, linewidth=plt.rcParams['axes.linewidth']*2, color=color, alpha=1, label=channel)\n",
    "    \n",
    "        ax.set_ylabel('Intensity', labelpad=10)\n",
    "        ax.legend(bbox_to_anchor=(1, 1), loc='upper left', prop={'size': 15}, fancybox=True, framealpha=0.0)\n",
    "\n",
    "    if save==True:\n",
    "        fig.savefig(f'{title}_{COLOR}_{plot_size}.pdf', dpi=300, transparent=True, bbox_inches='tight')\n",
    "        fig.savefig(f'{title}_{COLOR}_{plot_size}.png', dpi=300, transparent=True, bbox_inches='tight')\n",
    "    \n",
    "\n",
    "    "
   ]
  },
  {
   "cell_type": "code",
   "execution_count": 45,
   "metadata": {},
   "outputs": [
    {
     "name": "stdout",
     "output_type": "stream",
     "text": [
      "    Distance_(pixels)  Gray_Value\n",
      "56                 50     326.822\n"
     ]
    },
    {
     "data": {
      "image/png": "[encoded data removed]",
      "text/plain": [
       "<Figure size 144x108 with 2 Axes>"
      ]
     },
     "metadata": {
      "needs_background": "light"
     },
     "output_type": "display_data"
    }
   ],
   "source": [
    "channels = [\"Bazooka\", \"Jupiter\"]\n",
    "colors = [sns.color_palette()[-2], sns.color_palette()[-4]]\n",
    "COLOR = \"black\"\n",
    "plot_profiles(channels, colors, COLOR, sec_axis=True, save=True, title=\"deatachment_cross_section\", plot_size=\"small\")"
   ]
  },
  {
   "cell_type": "code",
   "execution_count": null,
   "metadata": {},
   "outputs": [],
   "source": [
    "channels = [\"Bazooka\", \"Jupiter\"]\n",
    "colors = [sns.color_palette()[-2], sns.color_palette()[-4]]\n",
    "COLOR = \"black\"\n",
    "plot_profiles(channels, colors, COLOR, sec_axis=True, save=True, title=\"deatachment_cross_section\", plot_size=\"small\")"
   ]
  }
 ],
 "metadata": {
  "interpreter": {
   "hash": "d407d3c1dbff03db4db5abaeaff1f52db7e8d8c3c054caf73a785d68f2e03910"
  },
  "kernelspec": {
   "display_name": "Python 3.8.5 32-bit",
   "language": "python",
   "name": "python3"
  },
  "language_info": {
   "codemirror_mode": {
    "name": "ipython",
    "version": 3
   },
   "file_extension": ".py",
   "mimetype": "text/x-python",
   "name": "python",
   "nbconvert_exporter": "python",
   "pygments_lexer": "ipython3",
   "version": "3.8.3"
  },
  "orig_nbformat": 4
 },
 "nbformat": 4,
 "nbformat_minor": 2
}
